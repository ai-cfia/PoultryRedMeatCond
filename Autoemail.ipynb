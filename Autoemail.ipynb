{
 "cells": [
  {
   "cell_type": "code",
   "execution_count": 0,
   "metadata": {
    "application/vnd.databricks.v1+cell": {
     "cellMetadata": {
      "byteLimit": 2048000,
      "rowLimit": 10000
     },
     "inputWidgets": {},
     "nuid": "847fb206-499f-4480-9bbe-ccdb26b5545c",
     "showTitle": false,
     "title": ""
    }
   },
   "outputs": [
    {
     "output_type": "stream",
     "name": "stdout",
     "output_type": "stream",
     "text": [
      "Collecting PyGithub\r\n  Downloading PyGithub-2.2.0-py3-none-any.whl (350 kB)\r\n\u001B[?25l     \u001B[90m━━━━━━━━━━━━━━━━━━━━━━━━━━━━━━━━━━━━━━━━\u001B[0m \u001B[32m0.0/350.2 kB\u001B[0m \u001B[31m?\u001B[0m eta \u001B[36m-:--:--\u001B[0m\r\u001B[2K     \u001B[91m━━━━━━━━━━━━━━━━━━━━━━━━━━━━━━━━━━━━━\u001B[0m\u001B[91m╸\u001B[0m \u001B[32m348.2/350.2 kB\u001B[0m \u001B[31m11.5 MB/s\u001B[0m eta \u001B[36m0:00:01\u001B[0m\r\u001B[2K     \u001B[90m━━━━━━━━━━━━━━━━━━━━━━━━━━━━━━━━━━━━━━━\u001B[0m \u001B[32m350.2/350.2 kB\u001B[0m \u001B[31m8.7 MB/s\u001B[0m eta \u001B[36m0:00:00\u001B[0m\r\n\u001B[?25hCollecting Deprecated\r\n  Downloading Deprecated-1.2.14-py2.py3-none-any.whl (9.6 kB)\r\nCollecting pynacl>=1.4.0\r\n  Downloading PyNaCl-1.5.0-cp36-abi3-manylinux_2_17_x86_64.manylinux2014_x86_64.manylinux_2_24_x86_64.whl (856 kB)\r\n\u001B[?25l     \u001B[90m━━━━━━━━━━━━━━━━━━━━━━━━━━━━━━━━━━━━━━━━\u001B[0m \u001B[32m0.0/856.7 kB\u001B[0m \u001B[31m?\u001B[0m eta \u001B[36m-:--:--\u001B[0m\r\u001B[2K     \u001B[90m━━━━━━━━━━━━━━━━━━━━━━━━━━━━━━━━━━━━━━\u001B[0m \u001B[32m856.7/856.7 kB\u001B[0m \u001B[31m38.3 MB/s\u001B[0m eta \u001B[36m0:00:00\u001B[0m\r\n\u001B[?25hRequirement already satisfied: urllib3>=1.26.0 in /databricks/python3/lib/python3.10/site-packages (from PyGithub) (1.26.11)\r\nRequirement already satisfied: requests>=2.14.0 in /databricks/python3/lib/python3.10/site-packages (from PyGithub) (2.28.1)\r\nCollecting pyjwt[crypto]>=2.4.0\r\n  Downloading PyJWT-2.8.0-py3-none-any.whl (22 kB)\r\nRequirement already satisfied: typing-extensions>=4.0.0 in /local_disk0/.ephemeral_nfs/envs/pythonEnv-3d11b9c1-6d3b-40c7-8d83-92afab03cf69/lib/python3.10/site-packages (from PyGithub) (4.10.0)\r\nRequirement already satisfied: cryptography>=3.4.0 in /databricks/python3/lib/python3.10/site-packages (from pyjwt[crypto]>=2.4.0->PyGithub) (37.0.1)\r\nRequirement already satisfied: cffi>=1.4.1 in /databricks/python3/lib/python3.10/site-packages (from pynacl>=1.4.0->PyGithub) (1.15.1)\r\nRequirement already satisfied: idna<4,>=2.5 in /databricks/python3/lib/python3.10/site-packages (from requests>=2.14.0->PyGithub) (3.3)\r\nRequirement already satisfied: charset-normalizer<3,>=2 in /databricks/python3/lib/python3.10/site-packages (from requests>=2.14.0->PyGithub) (2.0.4)\r\nRequirement already satisfied: certifi>=2017.4.17 in /databricks/python3/lib/python3.10/site-packages (from requests>=2.14.0->PyGithub) (2022.9.14)\r\nCollecting wrapt<2,>=1.10\r\n  Downloading wrapt-1.16.0-cp310-cp310-manylinux_2_5_x86_64.manylinux1_x86_64.manylinux_2_17_x86_64.manylinux2014_x86_64.whl (80 kB)\r\n\u001B[?25l     \u001B[90m━━━━━━━━━━━━━━━━━━━━━━━━━━━━━━━━━━━━━━━━\u001B[0m \u001B[32m0.0/80.3 kB\u001B[0m \u001B[31m?\u001B[0m eta \u001B[36m-:--:--\u001B[0m\r\u001B[2K     \u001B[90m━━━━━━━━━━━━━━━━━━━━━━━━━━━━━━━━━━━━━━━━\u001B[0m \u001B[32m80.3/80.3 kB\u001B[0m \u001B[31m8.6 MB/s\u001B[0m eta \u001B[36m0:00:00\u001B[0m\r\n\u001B[?25hRequirement already satisfied: pycparser in /databricks/python3/lib/python3.10/site-packages (from cffi>=1.4.1->pynacl>=1.4.0->PyGithub) (2.21)\r\nInstalling collected packages: wrapt, pyjwt, pynacl, Deprecated, PyGithub\r\n  Attempting uninstall: pyjwt\r\n    Found existing installation: PyJWT 2.3.0\r\n    Not uninstalling pyjwt at /usr/lib/python3/dist-packages, outside environment /local_disk0/.ephemeral_nfs/envs/pythonEnv-3d11b9c1-6d3b-40c7-8d83-92afab03cf69\r\n    Can't uninstall 'PyJWT'. No files were found to uninstall.\r\nSuccessfully installed Deprecated-1.2.14 PyGithub-2.2.0 pyjwt-2.8.0 pynacl-1.5.0 wrapt-1.16.0\r\n\r\n\u001B[1m[\u001B[0m\u001B[34;49mnotice\u001B[0m\u001B[1;39;49m]\u001B[0m\u001B[39;49m A new release of pip available: \u001B[0m\u001B[31;49m22.2.2\u001B[0m\u001B[39;49m -> \u001B[0m\u001B[32;49m24.0\u001B[0m\r\n\u001B[1m[\u001B[0m\u001B[34;49mnotice\u001B[0m\u001B[1;39;49m]\u001B[0m\u001B[39;49m To update, run: \u001B[0m\u001B[32;49mpip install --upgrade pip\u001B[0m\r\nUsing pip 22.2.2 from /local_disk0/.ephemeral_nfs/envs/pythonEnv-3d11b9c1-6d3b-40c7-8d83-92afab03cf69/lib/python3.10/site-packages/pip (python 3.10)\r\nCollecting selenium==4.1.4\r\n  Downloading selenium-4.1.4-py3-none-any.whl (979 kB)\r\n\u001B[?25l     \u001B[90m━━━━━━━━━━━━━━━━━━━━━━━━━━━━━━━━━━━━━━━━\u001B[0m \u001B[32m0.0/979.3 kB\u001B[0m \u001B[31m?\u001B[0m eta \u001B[36m-:--:--\u001B[0m\r\u001B[2K     \u001B[91m━━━━━━━━━━━━━━━━━━━━━━━\u001B[0m\u001B[90m╺\u001B[0m\u001B[90m━━━━━━━━━━━━━━\u001B[0m \u001B[32m604.2/979.3 kB\u001B[0m \u001B[31m18.0 MB/s\u001B[0m eta \u001B[36m0:00:01\u001B[0m\r\u001B[2K     \u001B[90m━━━━━━━━━━━━━━━━━━━━━━━━━━━━━━━━━━━━━━\u001B[0m \u001B[32m979.3/979.3 kB\u001B[0m \u001B[31m18.7 MB/s\u001B[0m eta \u001B[36m0:00:00\u001B[0m\r\n\u001B[?25hCollecting trio~=0.17\r\n  Using cached trio-0.24.0-py3-none-any.whl (460 kB)\r\nCollecting urllib3[secure,socks]~=1.26\r\n  Downloading urllib3-1.26.18-py2.py3-none-any.whl (143 kB)\r\n\u001B[?25l     \u001B[90m━━━━━━━━━━━━━━━━━━━━━━━━━━━━━━━━━━━━━━━━\u001B[0m \u001B[32m0.0/143.8 kB\u001B[0m \u001B[31m?\u001B[0m eta \u001B[36m-:--:--\u001B[0m\r\u001B[2K     \u001B[90m━━━━━━━━━━━━━━━━━━━━━━━━━━━━━━━━━━━━━━\u001B[0m \u001B[32m143.8/143.8 kB\u001B[0m \u001B[31m17.6 MB/s\u001B[0m eta \u001B[36m0:00:00\u001B[0m\r\n\u001B[?25hCollecting trio-websocket~=0.9\r\n  Using cached trio_websocket-0.11.1-py3-none-any.whl (17 kB)\r\nCollecting attrs>=20.1.0\r\n  Downloading attrs-23.2.0-py3-none-any.whl (60 kB)\r\n\u001B[?25l     \u001B[90m━━━━━━━━━━━━━━━━━━━━━━━━━━━━━━━━━━━━━━━━\u001B[0m \u001B[32m0.0/60.8 kB\u001B[0m \u001B[31m?\u001B[0m eta \u001B[36m-:--:--\u001B[0m\r\u001B[2K     \u001B[90m━━━━━━━━━━━━━━━━━━━━━━━━━━━━━━━━━━━━━━━━\u001B[0m \u001B[32m60.8/60.8 kB\u001B[0m \u001B[31m7.4 MB/s\u001B[0m eta \u001B[36m0:00:00\u001B[0m\r\n\u001B[?25hCollecting sortedcontainers\r\n  Using cached sortedcontainers-2.4.0-py2.py3-none-any.whl (29 kB)\r\nCollecting exceptiongroup\r\n  Using cached exceptiongroup-1.2.0-py3-none-any.whl (16 kB)\r\nCollecting sniffio>=1.3.0\r\n  Using cached sniffio-1.3.1-py3-none-any.whl (10 kB)\r\nCollecting idna\r\n  Downloading idna-3.6-py3-none-any.whl (61 kB)\r\n\u001B[?25l     \u001B[90m━━━━━━━━━━━━━━━━━━━━━━━━━━━━━━━━━━━━━━━━\u001B[0m \u001B[32m0.0/61.6 kB\u001B[0m \u001B[31m?\u001B[0m eta \u001B[36m-:--:--\u001B[0m\r\u001B[2K     \u001B[90m━━━━━━━━━━━━━━━━━━━━━━━━━━━━━━━━━━━━━━━━\u001B[0m \u001B[32m61.6/61.6 kB\u001B[0m \u001B[31m7.2 MB/s\u001B[0m eta \u001B[36m0:00:00\u001B[0m\r\n\u001B[?25hCollecting outcome\r\n  Using cached outcome-1.3.0.post0-py2.py3-none-any.whl (10 kB)\r\nCollecting wsproto>=0.14\r\n  Using cached wsproto-1.2.0-py3-none-any.whl (24 kB)\r\nCollecting urllib3-secure-extra\r\n  Downloading urllib3_secure_extra-0.1.0-py2.py3-none-any.whl (1.4 kB)\r\nCollecting pyOpenSSL>=0.14\r\n  Downloading pyOpenSSL-24.0.0-py3-none-any.whl (58 kB)\r\n\u001B[?25l     \u001B[90m━━━━━━━━━━━━━━━━━━━━━━━━━━━━━━━━━━━━━━━━\u001B[0m \u001B[32m0.0/58.6 kB\u001B[0m \u001B[31m?\u001B[0m eta \u001B[36m-:--:--\u001B[0m\r\u001B[2K     \u001B[90m━━━━━━━━━━━━━━━━━━━━━━━━━━━━━━━━━━━━━━━━\u001B[0m \u001B[32m58.6/58.6 kB\u001B[0m \u001B[31m8.1 MB/s\u001B[0m eta \u001B[36m0:00:00\u001B[0m\r\n\u001B[?25hCollecting cryptography>=1.3.4\r\n  Downloading cryptography-42.0.5-cp39-abi3-manylinux_2_28_x86_64.whl (4.6 MB)\r\n\u001B[?25l     \u001B[90m━━━━━━━━━━━━━━━━━━━━━━━━━━━━━━━━━━━━━━━━\u001B[0m \u001B[32m0.0/4.6 MB\u001B[0m \u001B[31m?\u001B[0m eta \u001B[36m-:--:--\u001B[0m\r\u001B[2K     \u001B[91m━━━━━━━━━━━━━━━━━━━━━━━━━━━━━━\u001B[0m\u001B[90m╺\u001B[0m\u001B[90m━━━━━━━━━\u001B[0m \u001B[32m3.4/4.6 MB\u001B[0m \u001B[31m103.6 MB/s\u001B[0m eta \u001B[36m0:00:01\u001B[0m\r\u001B[2K     \u001B[91m━━━━━━━━━━━━━━━━━━━━━━━━━━━━━━━━━━━━━━━\u001B[0m\u001B[91m╸\u001B[0m \u001B[32m4.6/4.6 MB\u001B[0m \u001B[31m113.0 MB/s\u001B[0m eta \u001B[36m0:00:01\u001B[0m\r\u001B[2K     \u001B[91m━━━━━━━━━━━━━━━━━━━━━━━━━━━━━━━━━━━━━━━\u001B[0m\u001B[91m╸\u001B[0m \u001B[32m4.6/4.6 MB\u001B[0m \u001B[31m113.0 MB/s\u001B[0m eta \u001B[36m0:00:01\u001B[0m\r\u001B[2K     \u001B[91m━━━━━━━━━━━━━━━━━━━━━━━━━━━━━━━━━━━━━━━\u001B[0m\u001B[91m╸\u001B[0m \u001B[32m4.6/4.6 MB\u001B[0m \u001B[31m113.0 MB/s\u001B[0m eta \u001B[36m0:00:01\u001B[0m\r\u001B[2K     \u001B[90m━━━━━━━━━━━━━━━━━━━━━━━━━━━━━━━━━━━━━━━━\u001B[0m \u001B[32m4.6/4.6 MB\u001B[0m \u001B[31m31.4 MB/s\u001B[0m eta \u001B[36m0:00:00\u001B[0m\r\n\u001B[?25hCollecting certifi\r\n  Downloading certifi-2024.2.2-py3-none-any.whl (163 kB)\r\n\u001B[?25l     \u001B[90m━━━━━━━━━━━━━━━━━━━━━━━━━━━━━━━━━━━━━━━━\u001B[0m \u001B[32m0.0/163.8 kB\u001B[0m \u001B[31m?\u001B[0m eta \u001B[36m-:--:--\u001B[0m\r\u001B[2K     \u001B[90m━━━━━━━━━━━━━━━━━━━━━━━━━━━━━━━━━━━━━━\u001B[0m \u001B[32m163.8/163.8 kB\u001B[0m \u001B[31m14.6 MB/s\u001B[0m eta \u001B[36m0:00:00\u001B[0m\r\n\u001B[?25hCollecting PySocks!=1.5.7,<2.0,>=1.5.6\r\n  Using cached PySocks-1.7.1-py3-none-any.whl (16 kB)\r\nCollecting cffi>=1.12\r\n  Downloading cffi-1.16.0-cp310-cp310-manylinux_2_17_x86_64.manylinux2014_x86_64.whl (443 kB)\r\n\u001B[?25l     \u001B[90m━━━━━━━━━━━━━━━━━━━━━━━━━━━━━━━━━━━━━━━━\u001B[0m \u001B[32m0.0/443.9 kB\u001B[0m \u001B[31m?\u001B[0m eta \u001B[36m-:--:--\u001B[0m\r\u001B[2K     \u001B[90m━━━━━━━━━━━━━━━━━━━━━━━━━━━━━━━━━━━━━━\u001B[0m \u001B[32m443.9/443.9 kB\u001B[0m \u001B[31m38.1 MB/s\u001B[0m eta \u001B[36m0:00:00\u001B[0m\r\n\u001B[?25hCollecting h11<1,>=0.9.0\r\n  Using cached h11-0.14.0-py3-none-any.whl (58 kB)\r\nCollecting pycparser\r\n  Downloading pycparser-2.21-py2.py3-none-any.whl (118 kB)\r\n\u001B[?25l     \u001B[90m━━━━━━━━━━━━━━━━━━━━━━━━━━━━━━━━━━━━━━━━\u001B[0m \u001B[32m0.0/118.7 kB\u001B[0m \u001B[31m?\u001B[0m eta \u001B[36m-:--:--\u001B[0m\r\u001B[2K     \u001B[90m━━━━━━━━━━━━━━━━━━━━━━━━━━━━━━━━━━━━━━\u001B[0m \u001B[32m118.7/118.7 kB\u001B[0m \u001B[31m15.0 MB/s\u001B[0m eta \u001B[36m0:00:00\u001B[0m\r\n\u001B[?25hInstalling collected packages: urllib3-secure-extra, sortedcontainers, urllib3, sniffio, PySocks, pycparser, idna, h11, exceptiongroup, certifi, attrs, wsproto, outcome, cffi, trio, cryptography, trio-websocket, pyOpenSSL, selenium\r\n  Attempting uninstall: sortedcontainers\r\n    Found existing installation: sortedcontainers 2.4.0\r\n    Uninstalling sortedcontainers-2.4.0:\r\n      Removing file or directory /local_disk0/.ephemeral_nfs/envs/pythonEnv-3d11b9c1-6d3b-40c7-8d83-92afab03cf69/lib/python3.10/site-packages/sortedcontainers-2.4.0.dist-info/\r\n      Removing file or directory /local_disk0/.ephemeral_nfs/envs/pythonEnv-3d11b9c1-6d3b-40c7-8d83-92afab03cf69/lib/python3.10/site-packages/sortedcontainers/\r\n      Successfully uninstalled sortedcontainers-2.4.0\r\n  Attempting uninstall: urllib3\r\n    Found existing installation: urllib3 1.26.11\r\n    Not uninstalling urllib3 at /databricks/python3/lib/python3.10/site-packages, outside environment /local_disk0/.ephemeral_nfs/envs/pythonEnv-3d11b9c1-6d3b-40c7-8d83-92afab03cf69\r\n    Can't uninstall 'urllib3'. No files were found to uninstall.\r\n  Attempting uninstall: sniffio\r\n    Found existing installation: sniffio 1.3.1\r\n    Uninstalling sniffio-1.3.1:\r\n      Removing file or directory /local_disk0/.ephemeral_nfs/envs/pythonEnv-3d11b9c1-6d3b-40c7-8d83-92afab03cf69/lib/python3.10/site-packages/sniffio-1.3.1.dist-info/\r\n      Removing file or directory /local_disk0/.ephemeral_nfs/envs/pythonEnv-3d11b9c1-6d3b-40c7-8d83-92afab03cf69/lib/python3.10/site-packages/sniffio/\r\n      Successfully uninstalled sniffio-1.3.1\r\n  Attempting uninstall: PySocks\r\n    Found existing installation: PySocks 1.7.1\r\n    Uninstalling PySocks-1.7.1:\r\n      Removing file or directory /local_disk0/.ephemeral_nfs/envs/pythonEnv-3d11b9c1-6d3b-40c7-8d83-92afab03cf69/lib/python3.10/site-packages/PySocks-1.7.1.dist-info/\r\n      Removing file or directory /local_disk0/.ephemeral_nfs/envs/pythonEnv-3d11b9c1-6d3b-40c7-8d83-92afab03cf69/lib/python3.10/site-packages/__pycache__/socks.cpython-310.pyc\r\n      Removing file or directory /local_disk0/.ephemeral_nfs/envs/pythonEnv-3d11b9c1-6d3b-40c7-8d83-92afab03cf69/lib/python3.10/site-packages/__pycache__/sockshandler.cpython-310.pyc\r\n      Removing file or directory /local_disk0/.ephemeral_nfs/envs/pythonEnv-3d11b9c1-6d3b-40c7-8d83-92afab03cf69/lib/python3.10/site-packages/socks.py\r\n      Removing file or directory /local_disk0/.ephemeral_nfs/envs/pythonEnv-3d11b9c1-6d3b-40c7-8d83-92afab03cf69/lib/python3.10/site-packages/sockshandler.py\r\n      Successfully uninstalled PySocks-1.7.1\r\n  Attempting uninstall: pycparser\r\n    Found existing installation: pycparser 2.21\r\n    Not uninstalling pycparser at /databricks/python3/lib/python3.10/site-packages, outside environment /local_disk0/.ephemeral_nfs/envs/pythonEnv-3d11b9c1-6d3b-40c7-8d83-92afab03cf69\r\n    Can't uninstall 'pycparser'. No files were found to uninstall.\r\n  Attempting uninstall: idna\r\n    Found existing installation: idna 3.3\r\n    Not uninstalling idna at /databricks/python3/lib/python3.10/site-packages, outside environment /local_disk0/.ephemeral_nfs/envs/pythonEnv-3d11b9c1-6d3b-40c7-8d83-92afab03cf69\r\n    Can't uninstall 'idna'. No files were found to uninstall.\r\n  Attempting uninstall: h11\r\n    Found existing installation: h11 0.14.0\r\n    Uninstalling h11-0.14.0:\r\n      Removing file or directory /local_disk0/.ephemeral_nfs/envs/pythonEnv-3d11b9c1-6d3b-40c7-8d83-92afab03cf69/lib/python3.10/site-packages/h11-0.14.0.dist-info/\r\n      Removing file or directory /local_disk0/.ephemeral_nfs/envs/pythonEnv-3d11b9c1-6d3b-40c7-8d83-92afab03cf69/lib/python3.10/site-packages/h11/\r\n      Successfully uninstalled h11-0.14.0\r\n  Attempting uninstall: exceptiongroup\r\n    Found existing installation: exceptiongroup 1.2.0\r\n    Uninstalling exceptiongroup-1.2.0:\r\n      Removing file or directory /local_disk0/.ephemeral_nfs/envs/pythonEnv-3d11b9c1-6d3b-40c7-8d83-92afab03cf69/lib/python3.10/site-packages/exceptiongroup-1.2.0.dist-info/\r\n      Removing file or directory /local_disk0/.ephemeral_nfs/envs/pythonEnv-3d11b9c1-6d3b-40c7-8d83-92afab03cf69/lib/python3.10/site-packages/exceptiongroup/\r\n      Successfully uninstalled exceptiongroup-1.2.0\r\n  Attempting uninstall: certifi\r\n    Found existing installation: certifi 2022.9.14\r\n    Not uninstalling certifi at /databricks/python3/lib/python3.10/site-packages, outside environment /local_disk0/.ephemeral_nfs/envs/pythonEnv-3d11b9c1-6d3b-40c7-8d83-92afab03cf69\r\n    Can't uninstall 'certifi'. No files were found to uninstall.\r\n  Attempting uninstall: attrs\r\n    Found existing installation: attrs 21.4.0\r\n    Not uninstalling attrs at /databricks/python3/lib/python3.10/site-packages, outside environment /local_disk0/.ephemeral_nfs/envs/pythonEnv-3d11b9c1-6d3b-40c7-8d83-92afab03cf69\r\n    Can't uninstall 'attrs'. No files were found to uninstall.\r\n  Attempting uninstall: wsproto\r\n    Found existing installation: wsproto 1.2.0\r\n    Uninstalling wsproto-1.2.0:\r\n      Removing file or directory /local_disk0/.ephemeral_nfs/envs/pythonEnv-3d11b9c1-6d3b-40c7-8d83-92afab03cf69/lib/python3.10/site-packages/wsproto-1.2.0.dist-info/\r\n      Removing file or directory /local_disk0/.ephemeral_nfs/envs/pythonEnv-3d11b9c1-6d3b-40c7-8d83-92afab03cf69/lib/python3.10/site-packages/wsproto/\r\n      Successfully uninstalled wsproto-1.2.0\r\n  Attempting uninstall: outcome\r\n    Found existing installation: outcome 1.3.0.post0\r\n    Uninstalling outcome-1.3.0.post0:\r\n      Removing file or directory /local_disk0/.ephemeral_nfs/envs/pythonEnv-3d11b9c1-6d3b-40c7-8d83-92afab03cf69/lib/python3.10/site-packages/outcome-1.3.0.post0.dist-info/\r\n      Removing file or directory /local_disk0/.ephemeral_nfs/envs/pythonEnv-3d11b9c1-6d3b-40c7-8d83-92afab03cf69/lib/python3.10/site-packages/outcome/\r\n      Successfully uninstalled outcome-1.3.0.post0\r\n  Attempting uninstall: cffi\r\n    Found existing installation: cffi 1.15.1\r\n    Not uninstalling cffi at /databricks/python3/lib/python3.10/site-packages, outside environment /local_disk0/.ephemeral_nfs/envs/pythonEnv-3d11b9c1-6d3b-40c7-8d83-92afab03cf69\r\n    Can't uninstall 'cffi'. No files were found to uninstall.\r\n  Attempting uninstall: trio\r\n    Found existing installation: trio 0.24.0\r\n    Uninstalling trio-0.24.0:\r\n      Removing file or directory /local_disk0/.ephemeral_nfs/envs/pythonEnv-3d11b9c1-6d3b-40c7-8d83-92afab03cf69/lib/python3.10/site-packages/trio-0.24.0.dist-info/\r\n      Removing file or directory /local_disk0/.ephemeral_nfs/envs/pythonEnv-3d11b9c1-6d3b-40c7-8d83-92afab03cf69/lib/python3.10/site-packages/trio/\r\n      Successfully uninstalled trio-0.24.0\r\n  Attempting uninstall: cryptography\r\n    Found existing installation: cryptography 37.0.1\r\n    Not uninstalling cryptography at /databricks/python3/lib/python3.10/site-packages, outside environment /local_disk0/.ephemeral_nfs/envs/pythonEnv-3d11b9c1-6d3b-40c7-8d83-92afab03cf69\r\n    Can't uninstall 'cryptography'. No files were found to uninstall.\r\n  Attempting uninstall: trio-websocket\r\n    Found existing installation: trio-websocket 0.11.1\r\n    Uninstalling trio-websocket-0.11.1:\r\n      Removing file or directory /local_disk0/.ephemeral_nfs/envs/pythonEnv-3d11b9c1-6d3b-40c7-8d83-92afab03cf69/lib/python3.10/site-packages/trio_websocket-0.11.1.dist-info/\r\n      Removing file or directory /local_disk0/.ephemeral_nfs/envs/pythonEnv-3d11b9c1-6d3b-40c7-8d83-92afab03cf69/lib/python3.10/site-packages/trio_websocket/\r\n      Successfully uninstalled trio-websocket-0.11.1\r\n  Attempting uninstall: selenium\r\n    Found existing installation: selenium 4.18.1\r\n    Uninstalling selenium-4.18.1:\r\n      Removing file or directory /local_disk0/.ephemeral_nfs/envs/pythonEnv-3d11b9c1-6d3b-40c7-8d83-92afab03cf69/lib/python3.10/site-packages/selenium-4.18.1.dist-info/\r\n      Removing file or directory /local_disk0/.ephemeral_nfs/envs/pythonEnv-3d11b9c1-6d3b-40c7-8d83-92afab03cf69/lib/python3.10/site-packages/selenium/\r\n      Successfully uninstalled selenium-4.18.1\r\nSuccessfully installed PySocks-1.7.1 attrs-23.2.0 certifi-2024.2.2 cffi-1.16.0 cryptography-42.0.5 exceptiongroup-1.2.0 h11-0.14.0 idna-3.6 outcome-1.3.0.post0 pyOpenSSL-24.0.0 pycparser-2.21 selenium-4.1.4 sniffio-1.3.1 sortedcontainers-2.4.0 trio-0.24.0 trio-websocket-0.11.1 urllib3-1.26.18 urllib3-secure-extra-0.1.0 wsproto-1.2.0\r\n\r\n\u001B[1m[\u001B[0m\u001B[34;49mnotice\u001B[0m\u001B[1;39;49m]\u001B[0m\u001B[39;49m A new release of pip available: \u001B[0m\u001B[31;49m22.2.2\u001B[0m\u001B[39;49m -> \u001B[0m\u001B[32;49m24.0\u001B[0m\r\n\u001B[1m[\u001B[0m\u001B[34;49mnotice\u001B[0m\u001B[1;39;49m]\u001B[0m\u001B[39;49m To update, run: \u001B[0m\u001B[32;49mpip install --upgrade pip\u001B[0m\r\nUsing pip 22.2.2 from /local_disk0/.ephemeral_nfs/envs/pythonEnv-3d11b9c1-6d3b-40c7-8d83-92afab03cf69/lib/python3.10/site-packages/pip (python 3.10)\r\nCollecting webdriver-manager==4.0.1\r\n  Downloading webdriver_manager-4.0.1-py2.py3-none-any.whl (27 kB)\r\nCollecting requests\r\n  Downloading requests-2.31.0-py3-none-any.whl (62 kB)\r\n\u001B[?25l     \u001B[90m━━━━━━━━━━━━━━━━━━━━━━━━━━━━━━━━━━━━━━━━\u001B[0m \u001B[32m0.0/62.6 kB\u001B[0m \u001B[31m?\u001B[0m eta \u001B[36m-:--:--\u001B[0m\r\u001B[2K     \u001B[90m━━━━━━━━━━━━━━━━━━━━━━━━━━━━━━━━━━━━━━━━\u001B[0m \u001B[32m62.6/62.6 kB\u001B[0m \u001B[31m3.0 MB/s\u001B[0m eta \u001B[36m0:00:00\u001B[0m\r\n\u001B[?25hCollecting packaging\r\n  Using cached packaging-23.2-py3-none-any.whl (53 kB)\r\nCollecting python-dotenv\r\n  Downloading python_dotenv-1.0.1-py3-none-any.whl (19 kB)\r\nCollecting urllib3<3,>=1.21.1\r\n  Downloading urllib3-2.2.1-py3-none-any.whl (121 kB)\r\n\u001B[?25l     \u001B[90m━━━━━━━━━━━━━━━━━━━━━━━━━━━━━━━━━━━━━━━━\u001B[0m \u001B[32m0.0/121.1 kB\u001B[0m \u001B[31m?\u001B[0m eta \u001B[36m-:--:--\u001B[0m\r\u001B[2K     \u001B[90m━━━━━━━━━━━━━━━━━━━━━━━━━━━━━━━━━━━━━━\u001B[0m \u001B[32m121.1/121.1 kB\u001B[0m \u001B[31m18.1 MB/s\u001B[0m eta \u001B[36m0:00:00\u001B[0m\r\n\u001B[?25hCollecting certifi>=2017.4.17\r\n  Using cached certifi-2024.2.2-py3-none-any.whl (163 kB)\r\nCollecting charset-normalizer<4,>=2\r\n  Downloading charset_normalizer-3.3.2-cp310-cp310-manylinux_2_17_x86_64.manylinux2014_x86_64.whl (142 kB)\r\n\u001B[?25l     \u001B[90m━━━━━━━━━━━━━━━━━━━━━━━━━━━━━━━━━━━━━━━━\u001B[0m \u001B[32m0.0/142.1 kB\u001B[0m \u001B[31m?\u001B[0m eta \u001B[36m-:--:--\u001B[0m\r\u001B[2K     \u001B[90m━━━━━━━━━━━━━━━━━━━━━━━━━━━━━━━━━━━━━━\u001B[0m \u001B[32m142.1/142.1 kB\u001B[0m \u001B[31m18.6 MB/s\u001B[0m eta \u001B[36m0:00:00\u001B[0m\r\n\u001B[?25hCollecting idna<4,>=2.5\r\n  Using cached idna-3.6-py3-none-any.whl (61 kB)\r\nInstalling collected packages: urllib3, python-dotenv, packaging, idna, charset-normalizer, certifi, requests, webdriver-manager\r\n  Attempting uninstall: urllib3\r\n    Found existing installation: urllib3 1.26.18\r\n    Uninstalling urllib3-1.26.18:\r\n      Removing file or directory /local_disk0/.ephemeral_nfs/envs/pythonEnv-3d11b9c1-6d3b-40c7-8d83-92afab03cf69/lib/python3.10/site-packages/urllib3-1.26.18.dist-info/\r\n      Removing file or directory /local_disk0/.ephemeral_nfs/envs/pythonEnv-3d11b9c1-6d3b-40c7-8d83-92afab03cf69/lib/python3.10/site-packages/urllib3/\r\n      Successfully uninstalled urllib3-1.26.18\r\n  changing mode of /local_disk0/.ephemeral_nfs/envs/pythonEnv-3d11b9c1-6d3b-40c7-8d83-92afab03cf69/bin/dotenv to 755\r\n  Attempting uninstall: packaging\r\n    Found existing installation: packaging 21.3\r\n    Not uninstalling packaging at /databricks/python3/lib/python3.10/site-packages, outside environment /local_disk0/.ephemeral_nfs/envs/pythonEnv-3d11b9c1-6d3b-40c7-8d83-92afab03cf69\r\n    Can't uninstall 'packaging'. No files were found to uninstall.\r\n  Attempting uninstall: idna\r\n    Found existing installation: idna 3.6\r\n    Uninstalling idna-3.6:\r\n      Removing file or directory /local_disk0/.ephemeral_nfs/envs/pythonEnv-3d11b9c1-6d3b-40c7-8d83-92afab03cf69/lib/python3.10/site-packages/idna-3.6.dist-info/\r\n      Removing file or directory /local_disk0/.ephemeral_nfs/envs/pythonEnv-3d11b9c1-6d3b-40c7-8d83-92afab03cf69/lib/python3.10/site-packages/idna/\r\n      Successfully uninstalled idna-3.6\r\n  Attempting uninstall: charset-normalizer\r\n    Found existing installation: charset-normalizer 2.0.4\r\n    Not uninstalling charset-normalizer at /databricks/python3/lib/python3.10/site-packages, outside environment /local_disk0/.ephemeral_nfs/envs/pythonEnv-3d11b9c1-6d3b-40c7-8d83-92afab03cf69\r\n    Can't uninstall 'charset-normalizer'. No files were found to uninstall.\r\n  changing mode of /local_disk0/.ephemeral_nfs/envs/pythonEnv-3d11b9c1-6d3b-40c7-8d83-92afab03cf69/bin/normalizer to 755\r\n  Attempting uninstall: certifi\r\n    Found existing installation: certifi 2024.2.2\r\n    Uninstalling certifi-2024.2.2:\r\n      Removing file or directory /local_disk0/.ephemeral_nfs/envs/pythonEnv-3d11b9c1-6d3b-40c7-8d83-92afab03cf69/lib/python3.10/site-packages/certifi-2024.2.2.dist-info/\r\n      Removing file or directory /local_disk0/.ephemeral_nfs/envs/pythonEnv-3d11b9c1-6d3b-40c7-8d83-92afab03cf69/lib/python3.10/site-packages/certifi/\r\n      Successfully uninstalled certifi-2024.2.2\r\n  Attempting uninstall: requests\r\n    Found existing installation: requests 2.28.1\r\n    Not uninstalling requests at /databricks/python3/lib/python3.10/site-packages, outside environment /local_disk0/.ephemeral_nfs/envs/pythonEnv-3d11b9c1-6d3b-40c7-8d83-92afab03cf69\r\n    Can't uninstall 'requests'. No files were found to uninstall.\r\n\u001B[31mERROR: pip's dependency resolver does not currently take into account all the packages that are installed. This behaviour is the source of the following dependency conflicts.\r\nselenium 4.1.4 requires urllib3[secure,socks]~=1.26, but you have urllib3 2.2.1 which is incompatible.\r\ndatabricks-sdk 0.1.6 requires requests<2.29.0,>=2.28.1, but you have requests 2.31.0 which is incompatible.\r\nbotocore 1.27.28 requires urllib3<1.27,>=1.25.4, but you have urllib3 2.2.1 which is incompatible.\u001B[0m\u001B[31m\r\n\u001B[0mSuccessfully installed certifi-2024.2.2 charset-normalizer-3.3.2 idna-3.6 packaging-23.2 python-dotenv-1.0.1 requests-2.31.0 urllib3-2.2.1 webdriver-manager-4.0.1\r\n\r\n\u001B[1m[\u001B[0m\u001B[34;49mnotice\u001B[0m\u001B[1;39;49m]\u001B[0m\u001B[39;49m A new release of pip available: \u001B[0m\u001B[31;49m22.2.2\u001B[0m\u001B[39;49m -> \u001B[0m\u001B[32;49m24.0\u001B[0m\r\n\u001B[1m[\u001B[0m\u001B[34;49mnotice\u001B[0m\u001B[1;39;49m]\u001B[0m\u001B[39;49m To update, run: \u001B[0m\u001B[32;49mpip install --upgrade pip\u001B[0m\r\nUsing pip 22.2.2 from /local_disk0/.ephemeral_nfs/envs/pythonEnv-3d11b9c1-6d3b-40c7-8d83-92afab03cf69/lib/python3.10/site-packages/pip (python 3.10)\r\nCollecting PyGithub==1.55\r\n  Downloading PyGithub-1.55-py3-none-any.whl (291 kB)\r\n\u001B[?25l     \u001B[90m━━━━━━━━━━━━━━━━━━━━━━━━━━━━━━━━━━━━━━━━\u001B[0m \u001B[32m0.0/291.7 kB\u001B[0m \u001B[31m?\u001B[0m eta \u001B[36m-:--:--\u001B[0m\r\u001B[2K     \u001B[91m━━━━━━━━━━━━━━━━━━━━━━━━━━━━━━━━━━━━━━\u001B[0m\u001B[90m╺\u001B[0m \u001B[32m286.7/291.7 kB\u001B[0m \u001B[31m9.5 MB/s\u001B[0m eta \u001B[36m0:00:01\u001B[0m\r\u001B[2K     \u001B[90m━━━━━━━━━━━━━━━━━━━━━━━━━━━━━━━━━━━━━━━\u001B[0m \u001B[32m291.7/291.7 kB\u001B[0m \u001B[31m7.7 MB/s\u001B[0m eta \u001B[36m0:00:00\u001B[0m\r\n\u001B[?25hCollecting pyjwt>=2.0\r\n  Using cached PyJWT-2.8.0-py3-none-any.whl (22 kB)\r\nCollecting pynacl>=1.4.0\r\n  Using cached PyNaCl-1.5.0-cp36-abi3-manylinux_2_17_x86_64.manylinux2014_x86_64.manylinux_2_24_x86_64.whl (856 kB)\r\nCollecting requests>=2.14.0\r\n  Using cached requests-2.31.0-py3-none-any.whl (62 kB)\r\nCollecting deprecated\r\n  Using cached Deprecated-1.2.14-py2.py3-none-any.whl (9.6 kB)\r\nCollecting cffi>=1.4.1\r\n  Using cached cffi-1.16.0-cp310-cp310-manylinux_2_17_x86_64.manylinux2014_x86_64.whl (443 kB)\r\nCollecting urllib3<3,>=1.21.1\r\n  Using cached urllib3-2.2.1-py3-none-any.whl (121 kB)\r\nCollecting certifi>=2017.4.17\r\n  Using cached certifi-2024.2.2-py3-none-any.whl (163 kB)\r\nCollecting idna<4,>=2.5\r\n  Using cached idna-3.6-py3-none-any.whl (61 kB)\r\nCollecting charset-normalizer<4,>=2\r\n  Using cached charset_normalizer-3.3.2-cp310-cp310-manylinux_2_17_x86_64.manylinux2014_x86_64.whl (142 kB)\r\nCollecting wrapt<2,>=1.10\r\n  Using cached wrapt-1.16.0-cp310-cp310-manylinux_2_5_x86_64.manylinux1_x86_64.manylinux_2_17_x86_64.manylinux2014_x86_64.whl (80 kB)\r\nCollecting pycparser\r\n  Using cached pycparser-2.21-py2.py3-none-any.whl (118 kB)\r\nInstalling collected packages: wrapt, urllib3, pyjwt, pycparser, idna, charset-normalizer, certifi, requests, deprecated, cffi, pynacl, PyGithub\r\n  Attempting uninstall: wrapt\r\n    Found existing installation: wrapt 1.16.0\r\n    Uninstalling wrapt-1.16.0:\r\n      Removing file or directory /local_disk0/.ephemeral_nfs/envs/pythonEnv-3d11b9c1-6d3b-40c7-8d83-92afab03cf69/lib/python3.10/site-packages/wrapt-1.16.0.dist-info/\r\n      Removing file or directory /local_disk0/.ephemeral_nfs/envs/pythonEnv-3d11b9c1-6d3b-40c7-8d83-92afab03cf69/lib/python3.10/site-packages/wrapt/\r\n      Successfully uninstalled wrapt-1.16.0\r\n  Attempting uninstall: urllib3\r\n    Found existing installation: urllib3 2.2.1\r\n    Uninstalling urllib3-2.2.1:\r\n      Removing file or directory /local_disk0/.ephemeral_nfs/envs/pythonEnv-3d11b9c1-6d3b-40c7-8d83-92afab03cf69/lib/python3.10/site-packages/urllib3-2.2.1.dist-info/\r\n      Removing file or directory /local_disk0/.ephemeral_nfs/envs/pythonEnv-3d11b9c1-6d3b-40c7-8d83-92afab03cf69/lib/python3.10/site-packages/urllib3/\r\n      Successfully uninstalled urllib3-2.2.1\r\n  Attempting uninstall: pyjwt\r\n    Found existing installation: PyJWT 2.8.0\r\n    Uninstalling PyJWT-2.8.0:\r\n      Removing file or directory /local_disk0/.ephemeral_nfs/envs/pythonEnv-3d11b9c1-6d3b-40c7-8d83-92afab03cf69/lib/python3.10/site-packages/PyJWT-2.8.0.dist-info/\r\n      Removing file or directory /local_disk0/.ephemeral_nfs/envs/pythonEnv-3d11b9c1-6d3b-40c7-8d83-92afab03cf69/lib/python3.10/site-packages/jwt/\r\n      Successfully uninstalled PyJWT-2.8.0\r\n  Attempting uninstall: pycparser\r\n    Found existing installation: pycparser 2.21\r\n    Uninstalling pycparser-2.21:\r\n      Removing file or directory /local_disk0/.ephemeral_nfs/envs/pythonEnv-3d11b9c1-6d3b-40c7-8d83-92afab03cf69/lib/python3.10/site-packages/pycparser-2.21.dist-info/\r\n      Removing file or directory /local_disk0/.ephemeral_nfs/envs/pythonEnv-3d11b9c1-6d3b-40c7-8d83-92afab03cf69/lib/python3.10/site-packages/pycparser/\r\n      Successfully uninstalled pycparser-2.21\r\n  Attempting uninstall: idna\r\n    Found existing installation: idna 3.6\r\n    Uninstalling idna-3.6:\r\n      Removing file or directory /local_disk0/.ephemeral_nfs/envs/pythonEnv-3d11b9c1-6d3b-40c7-8d83-92afab03cf69/lib/python3.10/site-packages/idna-3.6.dist-info/\r\n      Removing file or directory /local_disk0/.ephemeral_nfs/envs/pythonEnv-3d11b9c1-6d3b-40c7-8d83-92afab03cf69/lib/python3.10/site-packages/idna/\r\n      Successfully uninstalled idna-3.6\r\n  Attempting uninstall: charset-normalizer\r\n    Found existing installation: charset-normalizer 3.3.2\r\n    Uninstalling charset-normalizer-3.3.2:\r\n      Removing file or directory /local_disk0/.ephemeral_nfs/envs/pythonEnv-3d11b9c1-6d3b-40c7-8d83-92afab03cf69/bin/normalizer\r\n      Removing file or directory /local_disk0/.ephemeral_nfs/envs/pythonEnv-3d11b9c1-6d3b-40c7-8d83-92afab03cf69/lib/python3.10/site-packages/charset_normalizer-3.3.2.dist-info/\r\n      Removing file or directory /local_disk0/.ephemeral_nfs/envs/pythonEnv-3d11b9c1-6d3b-40c7-8d83-92afab03cf69/lib/python3.10/site-packages/charset_normalizer/\r\n      Successfully uninstalled charset-normalizer-3.3.2\r\n  changing mode of /local_disk0/.ephemeral_nfs/envs/pythonEnv-3d11b9c1-6d3b-40c7-8d83-92afab03cf69/bin/normalizer to 755\r\n  Attempting uninstall: certifi\r\n    Found existing installation: certifi 2024.2.2\r\n    Uninstalling certifi-2024.2.2:\r\n      Removing file or directory /local_disk0/.ephemeral_nfs/envs/pythonEnv-3d11b9c1-6d3b-40c7-8d83-92afab03cf69/lib/python3.10/site-packages/certifi-2024.2.2.dist-info/\r\n      Removing file or directory /local_disk0/.ephemeral_nfs/envs/pythonEnv-3d11b9c1-6d3b-40c7-8d83-92afab03cf69/lib/python3.10/site-packages/certifi/\r\n      Successfully uninstalled certifi-2024.2.2\r\n  Attempting uninstall: requests\r\n    Found existing installation: requests 2.31.0\r\n    Uninstalling requests-2.31.0:\r\n      Removing file or directory /local_disk0/.ephemeral_nfs/envs/pythonEnv-3d11b9c1-6d3b-40c7-8d83-92afab03cf69/lib/python3.10/site-packages/requests-2.31.0.dist-info/\r\n      Removing file or directory /local_disk0/.ephemeral_nfs/envs/pythonEnv-3d11b9c1-6d3b-40c7-8d83-92afab03cf69/lib/python3.10/site-packages/requests/\r\n      Successfully uninstalled requests-2.31.0\r\n  Attempting uninstall: deprecated\r\n    Found existing installation: Deprecated 1.2.14\r\n    Uninstalling Deprecated-1.2.14:\r\n      Removing file or directory /local_disk0/.ephemeral_nfs/envs/pythonEnv-3d11b9c1-6d3b-40c7-8d83-92afab03cf69/lib/python3.10/site-packages/Deprecated-1.2.14.dist-info/\r\n      Removing file or directory /local_disk0/.ephemeral_nfs/envs/pythonEnv-3d11b9c1-6d3b-40c7-8d83-92afab03cf69/lib/python3.10/site-packages/deprecated/\r\n      Successfully uninstalled Deprecated-1.2.14\r\n  Attempting uninstall: cffi\r\n    Found existing installation: cffi 1.16.0\r\n    Uninstalling cffi-1.16.0:\r\n      Removing file or directory /local_disk0/.ephemeral_nfs/envs/pythonEnv-3d11b9c1-6d3b-40c7-8d83-92afab03cf69/lib/python3.10/site-packages/_cffi_backend.cpython-310-x86_64-linux-gnu.so\r\n      Removing file or directory /local_disk0/.ephemeral_nfs/envs/pythonEnv-3d11b9c1-6d3b-40c7-8d83-92afab03cf69/lib/python3.10/site-packages/cffi-1.16.0.dist-info/\r\n      Removing file or directory /local_disk0/.ephemeral_nfs/envs/pythonEnv-3d11b9c1-6d3b-40c7-8d83-92afab03cf69/lib/python3.10/site-packages/cffi/\r\n      Successfully uninstalled cffi-1.16.0\r\n  Attempting uninstall: pynacl\r\n    Found existing installation: PyNaCl 1.5.0\r\n    Uninstalling PyNaCl-1.5.0:\r\n      Removing file or directory /local_disk0/.ephemeral_nfs/envs/pythonEnv-3d11b9c1-6d3b-40c7-8d83-92afab03cf69/lib/python3.10/site-packages/PyNaCl-1.5.0.dist-info/\r\n      Removing file or directory /local_disk0/.ephemeral_nfs/envs/pythonEnv-3d11b9c1-6d3b-40c7-8d83-92afab03cf69/lib/python3.10/site-packages/nacl/\r\n      Successfully uninstalled PyNaCl-1.5.0\r\n  Attempting uninstall: PyGithub\r\n    Found existing installation: PyGithub 2.2.0\r\n    Uninstalling PyGithub-2.2.0:\r\n      Removing file or directory /local_disk0/.ephemeral_nfs/envs/pythonEnv-3d11b9c1-6d3b-40c7-8d83-92afab03cf69/lib/python3.10/site-packages/PyGithub-2.2.0.dist-info/\r\n      Removing file or directory /local_disk0/.ephemeral_nfs/envs/pythonEnv-3d11b9c1-6d3b-40c7-8d83-92afab03cf69/lib/python3.10/site-packages/github/\r\n      Successfully uninstalled PyGithub-2.2.0\r\n\u001B[31mERROR: pip's dependency resolver does not currently take into account all the packages that are installed. This behaviour is the source of the following dependency conflicts.\r\nselenium 4.1.4 requires urllib3[secure,socks]~=1.26, but you have urllib3 2.2.1 which is incompatible.\r\ndatabricks-sdk 0.1.6 requires requests<2.29.0,>=2.28.1, but you have requests 2.31.0 which is incompatible.\r\nbotocore 1.27.28 requires urllib3<1.27,>=1.25.4, but you have urllib3 2.2.1 which is incompatible.\u001B[0m\u001B[31m\r\n\u001B[0mSuccessfully installed PyGithub-1.55 certifi-2024.2.2 cffi-1.16.0 charset-normalizer-3.3.2 deprecated-1.2.14 idna-3.6 pycparser-2.21 pyjwt-2.8.0 pynacl-1.5.0 requests-2.31.0 urllib3-2.2.1 wrapt-1.16.0\r\n\r\n\u001B[1m[\u001B[0m\u001B[34;49mnotice\u001B[0m\u001B[1;39;49m]\u001B[0m\u001B[39;49m A new release of pip available: \u001B[0m\u001B[31;49m22.2.2\u001B[0m\u001B[39;49m -> \u001B[0m\u001B[32;49m24.0\u001B[0m\r\n\u001B[1m[\u001B[0m\u001B[34;49mnotice\u001B[0m\u001B[1;39;49m]\u001B[0m\u001B[39;49m To update, run: \u001B[0m\u001B[32;49mpip install --upgrade pip\u001B[0m\r\nUsing pip 22.2.2 from /local_disk0/.ephemeral_nfs/envs/pythonEnv-3d11b9c1-6d3b-40c7-8d83-92afab03cf69/lib/python3.10/site-packages/pip (python 3.10)\r\nCollecting typing_extensions==4.7.1\r\n  Downloading typing_extensions-4.7.1-py3-none-any.whl (33 kB)\r\nInstalling collected packages: typing_extensions\r\n  Attempting uninstall: typing_extensions\r\n    Found existing installation: typing_extensions 4.10.0\r\n    Uninstalling typing_extensions-4.10.0:\r\n      Removing file or directory /local_disk0/.ephemeral_nfs/envs/pythonEnv-3d11b9c1-6d3b-40c7-8d83-92afab03cf69/lib/python3.10/site-packages/__pycache__/typing_extensions.cpython-310.pyc\r\n      Removing file or directory /local_disk0/.ephemeral_nfs/envs/pythonEnv-3d11b9c1-6d3b-40c7-8d83-92afab03cf69/lib/python3.10/site-packages/typing_extensions-4.10.0.dist-info/\r\n      Removing file or directory /local_disk0/.ephemeral_nfs/envs/pythonEnv-3d11b9c1-6d3b-40c7-8d83-92afab03cf69/lib/python3.10/site-packages/typing_extensions.py\r\n      Successfully uninstalled typing_extensions-4.10.0\r\nSuccessfully installed typing_extensions-4.7.1\r\n\r\n\u001B[1m[\u001B[0m\u001B[34;49mnotice\u001B[0m\u001B[1;39;49m]\u001B[0m\u001B[39;49m A new release of pip available: \u001B[0m\u001B[31;49m22.2.2\u001B[0m\u001B[39;49m -> \u001B[0m\u001B[32;49m24.0\u001B[0m\r\n\u001B[1m[\u001B[0m\u001B[34;49mnotice\u001B[0m\u001B[1;39;49m]\u001B[0m\u001B[39;49m To update, run: \u001B[0m\u001B[32;49mpip install --upgrade pip\u001B[0m\r\nUsing pip 22.2.2 from /local_disk0/.ephemeral_nfs/envs/pythonEnv-3d11b9c1-6d3b-40c7-8d83-92afab03cf69/lib/python3.10/site-packages/pip (python 3.10)\r\nCollecting chromedriver-binary==114.0.5735.90\r\n  Downloading chromedriver-binary-114.0.5735.90.0.tar.gz (5.1 kB)\r\n  Running command python setup.py egg_info\r\n  running egg_info\r\n  creating /tmp/pip-pip-egg-info-xnwe4ji9/chromedriver_binary.egg-info\r\n  writing /tmp/pip-pip-egg-info-xnwe4ji9/chromedriver_binary.egg-info/PKG-INFO\r\n  writing dependency_links to /tmp/pip-pip-egg-info-xnwe4ji9/chromedriver_binary.egg-info/dependency_links.txt\r\n  writing entry points to /tmp/pip-pip-egg-info-xnwe4ji9/chromedriver_binary.egg-info/entry_points.txt\r\n  writing top-level names to /tmp/pip-pip-egg-info-xnwe4ji9/chromedriver_binary.egg-info/top_level.txt\r\n  writing manifest file '/tmp/pip-pip-egg-info-xnwe4ji9/chromedriver_binary.egg-info/SOURCES.txt'\r\n  reading manifest file '/tmp/pip-pip-egg-info-xnwe4ji9/chromedriver_binary.egg-info/SOURCES.txt'\r\n  adding license file 'LICENSE'\r\n  writing manifest file '/tmp/pip-pip-egg-info-xnwe4ji9/chromedriver_binary.egg-info/SOURCES.txt'\r\n  Preparing metadata (setup.py) ... \u001B[?25l\u001B[?25hdone\r\nBuilding wheels for collected packages: chromedriver-binary\r\n  Running command python setup.py bdist_wheel\r\n  running bdist_wheel\r\n  running build\r\n  running build_py\r\n\r\n  Downloading Chromedriver...\r\n\r\n  creating build\r\n  creating build/lib\r\n  creating build/lib/chromedriver_binary\r\n  copying chromedriver_binary/utils.py -> build/lib/chromedriver_binary\r\n  copying chromedriver_binary/__init__.py -> build/lib/chromedriver_binary\r\n  copying chromedriver_binary/chromedriver -> build/lib/chromedriver_binary\r\n  /databricks/python/lib/python3.10/site-packages/setuptools/command/install.py:34: SetuptoolsDeprecationWarning: setup.py install is deprecated. Use build and pip and other standards-based tools.\r\n    warnings.warn(\r\n  installing to build/bdist.linux-x86_64/wheel\r\n  running install\r\n  running install_lib\r\n  creating build/bdist.linux-x86_64\r\n  creating build/bdist.linux-x86_64/wheel\r\n  creating build/bdist.linux-x86_64/wheel/chromedriver_binary\r\n  copying build/lib/chromedriver_binary/utils.py -> build/bdist.linux-x86_64/wheel/chromedriver_binary\r\n  copying build/lib/chromedriver_binary/chromedriver -> build/bdist.linux-x86_64/wheel/chromedriver_binary\r\n  copying build/lib/chromedriver_binary/__init__.py -> build/bdist.linux-x86_64/wheel/chromedriver_binary\r\n  running install_egg_info\r\n  running egg_info\r\n  writing chromedriver_binary.egg-info/PKG-INFO\r\n  writing dependency_links to chromedriver_binary.egg-info/dependency_links.txt\r\n  writing entry points to chromedriver_binary.egg-info/entry_points.txt\r\n  writing top-level names to chromedriver_binary.egg-info/top_level.txt\r\n  reading manifest file 'chromedriver_binary.egg-info/SOURCES.txt'\r\n  adding license file 'LICENSE'\r\n  writing manifest file 'chromedriver_binary.egg-info/SOURCES.txt'\r\n  Copying chromedriver_binary.egg-info to build/bdist.linux-x86_64/wheel/chromedriver_binary-114.0.5735.90.0-py3.10.egg-info\r\n  running install_scripts\r\n  adding license file \"LICENSE\" (matched pattern \"LICEN[CS]E*\")\r\n  creating build/bdist.linux-x86_64/wheel/chromedriver_binary-114.0.5735.90.0.dist-info/WHEEL\r\n  creating '/tmp/pip-wheel-bmevwug_/chromedriver_binary-114.0.5735.90.0-py3-none-any.whl' and adding 'build/bdist.linux-x86_64/wheel' to it\r\n  adding 'chromedriver_binary/__init__.py'\r\n  adding 'chromedriver_binary/chromedriver'\r\n  adding 'chromedriver_binary/utils.py'\r\n  adding 'chromedriver_binary-114.0.5735.90.0.dist-info/LICENSE'\r\n  adding 'chromedriver_binary-114.0.5735.90.0.dist-info/METADATA'\r\n  adding 'chromedriver_binary-114.0.5735.90.0.dist-info/WHEEL'\r\n  adding 'chromedriver_binary-114.0.5735.90.0.dist-info/entry_points.txt'\r\n  adding 'chromedriver_binary-114.0.5735.90.0.dist-info/top_level.txt'\r\n  adding 'chromedriver_binary-114.0.5735.90.0.dist-info/RECORD'\r\n  removing build/bdist.linux-x86_64/wheel\r\n  Building wheel for chromedriver-binary (setup.py) ... \u001B[?25l\u001B[?25hdone\r\n  Created wheel for chromedriver-binary: filename=chromedriver_binary-114.0.5735.90.0-py3-none-any.whl size=7356399 sha256=808fbbe8c6b00fbd0af3f0e7a917f6f298c04fdcc51e47d253d553b6be76d344\r\n  Stored in directory: /root/.cache/pip/wheels/53/87/f9/ee0032c0926754afc88e4e146383a477f90cb88a3fae04bfdd\r\nSuccessfully built chromedriver-binary\r\nInstalling collected packages: chromedriver-binary\r\n  changing mode of /local_disk0/.ephemeral_nfs/envs/pythonEnv-3d11b9c1-6d3b-40c7-8d83-92afab03cf69/bin/chromedriver-path to 755\r\nSuccessfully installed chromedriver-binary-114.0.5735.90.0\r\n\r\n\u001B[1m[\u001B[0m\u001B[34;49mnotice\u001B[0m\u001B[1;39;49m]\u001B[0m\u001B[39;49m A new release of pip available: \u001B[0m\u001B[31;49m22.2.2\u001B[0m\u001B[39;49m -> \u001B[0m\u001B[32;49m24.0\u001B[0m\r\n\u001B[1m[\u001B[0m\u001B[34;49mnotice\u001B[0m\u001B[1;39;49m]\u001B[0m\u001B[39;49m To update, run: \u001B[0m\u001B[32;49mpip install --upgrade pip\u001B[0m\r\nUsing pip 22.2.2 from /local_disk0/.ephemeral_nfs/envs/pythonEnv-3d11b9c1-6d3b-40c7-8d83-92afab03cf69/lib/python3.10/site-packages/pip (python 3.10)\r\nCollecting urllib3==2.2.1\r\n  Using cached urllib3-2.2.1-py3-none-any.whl (121 kB)\r\nInstalling collected packages: urllib3\r\n  Attempting uninstall: urllib3\r\n    Found existing installation: urllib3 2.2.1\r\n    Uninstalling urllib3-2.2.1:\r\n      Removing file or directory /local_disk0/.ephemeral_nfs/envs/pythonEnv-3d11b9c1-6d3b-40c7-8d83-92afab03cf69/lib/python3.10/site-packages/urllib3-2.2.1.dist-info/\r\n      Removing file or directory /local_disk0/.ephemeral_nfs/envs/pythonEnv-3d11b9c1-6d3b-40c7-8d83-92afab03cf69/lib/python3.10/site-packages/urllib3/\r\n      Successfully uninstalled urllib3-2.2.1\r\n\u001B[31mERROR: pip's dependency resolver does not currently take into account all the packages that are installed. This behaviour is the source of the following dependency conflicts.\r\nselenium 4.1.4 requires urllib3[secure,socks]~=1.26, but you have urllib3 2.2.1 which is incompatible.\r\ndatabricks-sdk 0.1.6 requires requests<2.29.0,>=2.28.1, but you have requests 2.31.0 which is incompatible.\r\nbotocore 1.27.28 requires urllib3<1.27,>=1.25.4, but you have urllib3 2.2.1 which is incompatible.\u001B[0m\u001B[31m\r\n\u001B[0mSuccessfully installed urllib3-2.2.1\r\n\r\n\u001B[1m[\u001B[0m\u001B[34;49mnotice\u001B[0m\u001B[1;39;49m]\u001B[0m\u001B[39;49m A new release of pip available: \u001B[0m\u001B[31;49m22.2.2\u001B[0m\u001B[39;49m -> \u001B[0m\u001B[32;49m24.0\u001B[0m\r\n\u001B[1m[\u001B[0m\u001B[34;49mnotice\u001B[0m\u001B[1;39;49m]\u001B[0m\u001B[39;49m To update, run: \u001B[0m\u001B[32;49mpip install --upgrade pip\u001B[0m\r\nUsing pip 22.2.2 from /local_disk0/.ephemeral_nfs/envs/pythonEnv-3d11b9c1-6d3b-40c7-8d83-92afab03cf69/lib/python3.10/site-packages/pip (python 3.10)\r\nCollecting requests==2.31.0\r\n  Using cached requests-2.31.0-py3-none-any.whl (62 kB)\r\nCollecting charset-normalizer<4,>=2\r\n  Using cached charset_normalizer-3.3.2-cp310-cp310-manylinux_2_17_x86_64.manylinux2014_x86_64.whl (142 kB)\r\nCollecting urllib3<3,>=1.21.1\r\n  Using cached urllib3-2.2.1-py3-none-any.whl (121 kB)\r\nCollecting idna<4,>=2.5\r\n  Using cached idna-3.6-py3-none-any.whl (61 kB)\r\nCollecting certifi>=2017.4.17\r\n  Using cached certifi-2024.2.2-py3-none-any.whl (163 kB)\r\nInstalling collected packages: urllib3, idna, charset-normalizer, certifi, requests\r\n  Attempting uninstall: urllib3\r\n    Found existing installation: urllib3 2.2.1\r\n    Uninstalling urllib3-2.2.1:\r\n      Removing file or directory /local_disk0/.ephemeral_nfs/envs/pythonEnv-3d11b9c1-6d3b-40c7-8d83-92afab03cf69/lib/python3.10/site-packages/urllib3-2.2.1.dist-info/\r\n      Removing file or directory /local_disk0/.ephemeral_nfs/envs/pythonEnv-3d11b9c1-6d3b-40c7-8d83-92afab03cf69/lib/python3.10/site-packages/urllib3/\r\n      Successfully uninstalled urllib3-2.2.1\r\n  Attempting uninstall: idna\r\n    Found existing installation: idna 3.6\r\n    Uninstalling idna-3.6:\r\n      Removing file or directory /local_disk0/.ephemeral_nfs/envs/pythonEnv-3d11b9c1-6d3b-40c7-8d83-92afab03cf69/lib/python3.10/site-packages/idna-3.6.dist-info/\r\n      Removing file or directory /local_disk0/.ephemeral_nfs/envs/pythonEnv-3d11b9c1-6d3b-40c7-8d83-92afab03cf69/lib/python3.10/site-packages/idna/\r\n      Successfully uninstalled idna-3.6\r\n  Attempting uninstall: charset-normalizer\r\n    Found existing installation: charset-normalizer 3.3.2\r\n    Uninstalling charset-normalizer-3.3.2:\r\n      Removing file or directory /local_disk0/.ephemeral_nfs/envs/pythonEnv-3d11b9c1-6d3b-40c7-8d83-92afab03cf69/bin/normalizer\r\n      Removing file or directory /local_disk0/.ephemeral_nfs/envs/pythonEnv-3d11b9c1-6d3b-40c7-8d83-92afab03cf69/lib/python3.10/site-packages/charset_normalizer-3.3.2.dist-info/\r\n      Removing file or directory /local_disk0/.ephemeral_nfs/envs/pythonEnv-3d11b9c1-6d3b-40c7-8d83-92afab03cf69/lib/python3.10/site-packages/charset_normalizer/\r\n      Successfully uninstalled charset-normalizer-3.3.2\r\n  changing mode of /local_disk0/.ephemeral_nfs/envs/pythonEnv-3d11b9c1-6d3b-40c7-8d83-92afab03cf69/bin/normalizer to 755\r\n  Attempting uninstall: certifi\r\n    Found existing installation: certifi 2024.2.2\r\n    Uninstalling certifi-2024.2.2:\r\n      Removing file or directory /local_disk0/.ephemeral_nfs/envs/pythonEnv-3d11b9c1-6d3b-40c7-8d83-92afab03cf69/lib/python3.10/site-packages/certifi-2024.2.2.dist-info/\r\n      Removing file or directory /local_disk0/.ephemeral_nfs/envs/pythonEnv-3d11b9c1-6d3b-40c7-8d83-92afab03cf69/lib/python3.10/site-packages/certifi/\r\n      Successfully uninstalled certifi-2024.2.2\r\n  Attempting uninstall: requests\r\n    Found existing installation: requests 2.31.0\r\n    Uninstalling requests-2.31.0:\r\n      Removing file or directory /local_disk0/.ephemeral_nfs/envs/pythonEnv-3d11b9c1-6d3b-40c7-8d83-92afab03cf69/lib/python3.10/site-packages/requests-2.31.0.dist-info/\r\n      Removing file or directory /local_disk0/.ephemeral_nfs/envs/pythonEnv-3d11b9c1-6d3b-40c7-8d83-92afab03cf69/lib/python3.10/site-packages/requests/\r\n      Successfully uninstalled requests-2.31.0\r\n\u001B[31mERROR: pip's dependency resolver does not currently take into account all the packages that are installed. This behaviour is the source of the following dependency conflicts.\r\nselenium 4.1.4 requires urllib3[secure,socks]~=1.26, but you have urllib3 2.2.1 which is incompatible.\r\ndatabricks-sdk 0.1.6 requires requests<2.29.0,>=2.28.1, but you have requests 2.31.0 which is incompatible.\r\nbotocore 1.27.28 requires urllib3<1.27,>=1.25.4, but you have urllib3 2.2.1 which is incompatible.\u001B[0m\u001B[31m\r\n\u001B[0mSuccessfully installed certifi-2024.2.2 charset-normalizer-3.3.2 idna-3.6 requests-2.31.0 urllib3-2.2.1\r\n\r\n\u001B[1m[\u001B[0m\u001B[34;49mnotice\u001B[0m\u001B[1;39;49m]\u001B[0m\u001B[39;49m A new release of pip available: \u001B[0m\u001B[31;49m22.2.2\u001B[0m\u001B[39;49m -> \u001B[0m\u001B[32;49m24.0\u001B[0m\r\n\u001B[1m[\u001B[0m\u001B[34;49mnotice\u001B[0m\u001B[1;39;49m]\u001B[0m\u001B[39;49m To update, run: \u001B[0m\u001B[32;49mpip install --upgrade pip\u001B[0m\r\nUsing pip 22.2.2 from /local_disk0/.ephemeral_nfs/envs/pythonEnv-3d11b9c1-6d3b-40c7-8d83-92afab03cf69/lib/python3.10/site-packages/pip (python 3.10)\r\nCollecting chromedriver==2.24.1\r\n  Downloading chromedriver-2.24.1-py2.py3-none-any.whl (14.3 MB)\r\n\u001B[?25l     \u001B[90m━━━━━━━━━━━━━━━━━━━━━━━━━━━━━━━━━━━━━━━━\u001B[0m \u001B[32m0.0/14.3 MB\u001B[0m \u001B[31m?\u001B[0m eta \u001B[36m-:--:--\u001B[0m\r\u001B[2K     \u001B[91m╸\u001B[0m\u001B[90m━━━━━━━━━━━━━━━━━━━━━━━━━━━━━━━━━━━━━━━\u001B[0m \u001B[32m0.2/14.3 MB\u001B[0m \u001B[31m7.1 MB/s\u001B[0m eta \u001B[36m0:00:02\u001B[0m\r\u001B[2K     \u001B[91m━━━━━━━━━━\u001B[0m\u001B[91m╸\u001B[0m\u001B[90m━━━━━━━━━━━━━━━━━━━━━━━━━━━━━\u001B[0m \u001B[32m3.8/14.3 MB\u001B[0m \u001B[31m55.5 MB/s\u001B[0m eta \u001B[36m0:00:01\u001B[0m\r\u001B[2K     \u001B[91m━━━━━━━━━━━━━━━━━━\u001B[0m\u001B[90m╺\u001B[0m\u001B[90m━━━━━━━━━━━━━━━━━━━━━\u001B[0m \u001B[32m6.6/14.3 MB\u001B[0m \u001B[31m63.4 MB/s\u001B[0m eta \u001B[36m0:00:01\u001B[0m\r\u001B[2K     \u001B[91m━━━━━━━━━━━━━━━━━━━━━━━━━━━━━━━\u001B[0m\u001B[90m╺\u001B[0m\u001B[90m━━━━━━━\u001B[0m \u001B[32m11.5/14.3 MB\u001B[0m \u001B[31m116.5 MB/s\u001B[0m eta \u001B[36m0:00:01\u001B[0m\r\u001B[2K     \u001B[91m━━━━━━━━━━━━━━━━━━━━━━━━━━━━━━━━━━━━━━\u001B[0m\u001B[91m╸\u001B[0m \u001B[32m14.3/14.3 MB\u001B[0m \u001B[31m108.3 MB/s\u001B[0m eta \u001B[36m0:00:01\u001B[0m\r\u001B[2K     \u001B[91m━━━━━━━━━━━━━━━━━━━━━━━━━━━━━━━━━━━━━━\u001B[0m\u001B[91m╸\u001B[0m \u001B[32m14.3/14.3 MB\u001B[0m \u001B[31m108.3 MB/s\u001B[0m eta \u001B[36m0:00:01\u001B[0m\r\u001B[2K     \u001B[91m━━━━━━━━━━━━━━━━━━━━━━━━━━━━━━━━━━━━━━\u001B[0m\u001B[91m╸\u001B[0m \u001B[32m14.3/14.3 MB\u001B[0m \u001B[31m108.3 MB/s\u001B[0m eta \u001B[36m0:00:01\u001B[0m\r\u001B[2K     \u001B[90m━━━━━━━━━━━━━━━━━━━━━━━━━━━━━━━━━━━━━━━━\u001B[0m \u001B[32m14.3/14.3 MB\u001B[0m \u001B[31m57.1 MB/s\u001B[0m eta \u001B[36m0:00:00\u001B[0m\r\n\u001B[?25hInstalling collected packages: chromedriver\r\nSuccessfully installed chromedriver-2.24.1\r\n\r\n\u001B[1m[\u001B[0m\u001B[34;49mnotice\u001B[0m\u001B[1;39;49m]\u001B[0m\u001B[39;49m A new release of pip available: \u001B[0m\u001B[31;49m22.2.2\u001B[0m\u001B[39;49m -> \u001B[0m\u001B[32;49m24.0\u001B[0m\r\n\u001B[1m[\u001B[0m\u001B[34;49mnotice\u001B[0m\u001B[1;39;49m]\u001B[0m\u001B[39;49m To update, run: \u001B[0m\u001B[32;49mpip install --upgrade pip\u001B[0m\r\n"
     ]
    }
   ],
   "source": [
    "#install command\n",
    "!pip install PyGithub\n",
    "!pip install --force-reinstall -v \"selenium==4.1.4\"\n",
    "!pip install --force-reinstall -v \"webdriver-manager==4.0.1\"\n",
    "!pip install --force-reinstall -v \"PyGithub==1.55\"\n",
    "!pip install --force-reinstall -v \"typing_extensions==4.7.1\"\n",
    "!pip install --force-reinstall -v \"chromedriver-binary==114.0.5735.90\"\n",
    "!pip install --force-reinstall -v \"urllib3==2.2.1\"\n",
    "!pip install --force-reinstall -v \"requests==2.31.0\"\n",
    "!pip install --force-reinstall -v \"chromedriver==2.24.1\"\n",
    "\n",
    "import smtplib, ssl\n",
    "from email.mime.text import MIMEText\n",
    "from email.mime.multipart import MIMEMultipart\n",
    "import re\n",
    "import email.utils\n",
    "import time\n",
    "import glob\n",
    "import datetime\n",
    "import os\n",
    "import requests\n",
    "import sys\n",
    "import shutil\n",
    "from github import Github\n",
    "import pandas as pd\n",
    "import numpy as np\n",
    "from selenium import webdriver\n",
    "from selenium.webdriver.chrome.options import Options\n",
    "\n",
    "    "
   ]
  },
  {
   "cell_type": "code",
   "execution_count": 0,
   "metadata": {
    "application/vnd.databricks.v1+cell": {
     "cellMetadata": {
      "byteLimit": 2048000,
      "rowLimit": 10000
     },
     "inputWidgets": {},
     "nuid": "b740f94a-c0ef-4c27-8574-d05590a7a29e",
     "showTitle": false,
     "title": ""
    }
   },
   "outputs": [
    {
     "output_type": "display_data",
     "data": {
      "text/plain": [
       "\u001B[0;31m---------------------------------------------------------------------------\u001B[0m\n",
       "\u001B[0;31mAttributeError\u001B[0m                            Traceback (most recent call last)\n",
       "File \u001B[0;32m<command-563684843755688>, line 29\u001B[0m\n",
       "\u001B[1;32m     16\u001B[0m     \u001B[38;5;66;03m#chrome_options = Options()\u001B[39;00m\n",
       "\u001B[1;32m     17\u001B[0m     \u001B[38;5;66;03m#chrome_options.binary_location = \"/root/.wdm/drivers/chromedriver/linux64/114.0.5735.90/chromedriver\"\u001B[39;00m\n",
       "\u001B[1;32m     18\u001B[0m     \u001B[38;5;66;03m#chrome_options.binary_location = \"/local_disk0/.ephemeral_nfs/envs/pythonEnv-949035ac-f0f5-4a40-bdc5-13754e96e7f2/lib/python3.10/site-packages/chromedriver_binary\"\u001B[39;00m\n",
       "\u001B[0;32m   (...)\u001B[0m\n",
       "\u001B[1;32m     23\u001B[0m     \n",
       "\u001B[1;32m     24\u001B[0m     \u001B[38;5;66;03m#chrome_options.add_argument('--disable-dev-shm-usage')\u001B[39;00m\n",
       "\u001B[1;32m     28\u001B[0m     chrome_options\u001B[38;5;241m.\u001B[39madd_experimental_option(\u001B[38;5;124m\"\u001B[39m\u001B[38;5;124mprefs\u001B[39m\u001B[38;5;124m\"\u001B[39m, prefs)\n",
       "\u001B[0;32m---> 29\u001B[0m     driver \u001B[38;5;241m=\u001B[39m webdriver\u001B[38;5;241m.\u001B[39mChrome(ChromeDriverManager()\u001B[38;5;241m.\u001B[39minstall(),chrome_options\u001B[38;5;241m=\u001B[39mchrome_options)\n",
       "\u001B[1;32m     30\u001B[0m     \u001B[38;5;66;03m#driver = webdriver.Chrome(ChromeDriverManager(version=\"114.0.5735.90\").install(),chrome_options=chrome_options)\u001B[39;00m\n",
       "\u001B[1;32m     31\u001B[0m     \u001B[38;5;66;03m#driver = webdriver.Chrome(executable_path=\"/root/.wdm/drivers/chromedriver/linux64/114.0.5735.90/chromedriver\",chrome_options=chrome_options)\u001B[39;00m\n",
       "\u001B[1;32m     36\u001B[0m \u001B[38;5;28;01mexcept\u001B[39;00m \u001B[38;5;167;01mImportError\u001B[39;00m:\n",
       "\n",
       "File \u001B[0;32m/local_disk0/.ephemeral_nfs/envs/pythonEnv-3d11b9c1-6d3b-40c7-8d83-92afab03cf69/lib/python3.10/site-packages/webdriver_manager/chrome.py:40\u001B[0m, in \u001B[0;36mChromeDriverManager.install\u001B[0;34m(self)\u001B[0m\n",
       "\u001B[1;32m     39\u001B[0m \u001B[38;5;28;01mdef\u001B[39;00m \u001B[38;5;21minstall\u001B[39m(\u001B[38;5;28mself\u001B[39m) \u001B[38;5;241m-\u001B[39m\u001B[38;5;241m>\u001B[39m \u001B[38;5;28mstr\u001B[39m:\n",
       "\u001B[0;32m---> 40\u001B[0m     driver_path \u001B[38;5;241m=\u001B[39m \u001B[38;5;28;43mself\u001B[39;49m\u001B[38;5;241;43m.\u001B[39;49m\u001B[43m_get_driver_binary_path\u001B[49m\u001B[43m(\u001B[49m\u001B[38;5;28;43mself\u001B[39;49m\u001B[38;5;241;43m.\u001B[39;49m\u001B[43mdriver\u001B[49m\u001B[43m)\u001B[49m\n",
       "\u001B[1;32m     41\u001B[0m     os\u001B[38;5;241m.\u001B[39mchmod(driver_path, \u001B[38;5;241m0o755\u001B[39m)\n",
       "\u001B[1;32m     42\u001B[0m     \u001B[38;5;28;01mreturn\u001B[39;00m driver_path\n",
       "\n",
       "File \u001B[0;32m/local_disk0/.ephemeral_nfs/envs/pythonEnv-3d11b9c1-6d3b-40c7-8d83-92afab03cf69/lib/python3.10/site-packages/webdriver_manager/core/manager.py:40\u001B[0m, in \u001B[0;36mDriverManager._get_driver_binary_path\u001B[0;34m(self, driver)\u001B[0m\n",
       "\u001B[1;32m     37\u001B[0m     \u001B[38;5;28;01mreturn\u001B[39;00m binary_path\n",
       "\u001B[1;32m     39\u001B[0m os_type \u001B[38;5;241m=\u001B[39m \u001B[38;5;28mself\u001B[39m\u001B[38;5;241m.\u001B[39mget_os_type()\n",
       "\u001B[0;32m---> 40\u001B[0m file \u001B[38;5;241m=\u001B[39m \u001B[38;5;28mself\u001B[39m\u001B[38;5;241m.\u001B[39m_download_manager\u001B[38;5;241m.\u001B[39mdownload_file(\u001B[43mdriver\u001B[49m\u001B[38;5;241;43m.\u001B[39;49m\u001B[43mget_driver_download_url\u001B[49m\u001B[43m(\u001B[49m\u001B[43mos_type\u001B[49m\u001B[43m)\u001B[49m)\n",
       "\u001B[1;32m     41\u001B[0m binary_path \u001B[38;5;241m=\u001B[39m \u001B[38;5;28mself\u001B[39m\u001B[38;5;241m.\u001B[39m_cache_manager\u001B[38;5;241m.\u001B[39msave_file_to_cache(driver, file)\n",
       "\u001B[1;32m     42\u001B[0m \u001B[38;5;28;01mreturn\u001B[39;00m binary_path\n",
       "\n",
       "File \u001B[0;32m/local_disk0/.ephemeral_nfs/envs/pythonEnv-3d11b9c1-6d3b-40c7-8d83-92afab03cf69/lib/python3.10/site-packages/webdriver_manager/drivers/chrome.py:32\u001B[0m, in \u001B[0;36mChromeDriver.get_driver_download_url\u001B[0;34m(self, os_type)\u001B[0m\n",
       "\u001B[1;32m     31\u001B[0m \u001B[38;5;28;01mdef\u001B[39;00m \u001B[38;5;21mget_driver_download_url\u001B[39m(\u001B[38;5;28mself\u001B[39m, os_type):\n",
       "\u001B[0;32m---> 32\u001B[0m     driver_version_to_download \u001B[38;5;241m=\u001B[39m \u001B[38;5;28;43mself\u001B[39;49m\u001B[38;5;241;43m.\u001B[39;49m\u001B[43mget_driver_version_to_download\u001B[49m\u001B[43m(\u001B[49m\u001B[43m)\u001B[49m\n",
       "\u001B[1;32m     33\u001B[0m     \u001B[38;5;66;03m# For Mac ARM CPUs after version 106.0.5249.61 the format of OS type changed\u001B[39;00m\n",
       "\u001B[1;32m     34\u001B[0m     \u001B[38;5;66;03m# to more unified \"mac_arm64\". For newer versions, it'll be \"mac_arm64\"\u001B[39;00m\n",
       "\u001B[1;32m     35\u001B[0m     \u001B[38;5;66;03m# by default, for lower versions we replace \"mac_arm64\" to old format - \"mac64_m1\".\u001B[39;00m\n",
       "\u001B[1;32m     36\u001B[0m     \u001B[38;5;28;01mif\u001B[39;00m version\u001B[38;5;241m.\u001B[39mparse(driver_version_to_download) \u001B[38;5;241m<\u001B[39m version\u001B[38;5;241m.\u001B[39mparse(\u001B[38;5;124m\"\u001B[39m\u001B[38;5;124m106.0.5249.61\u001B[39m\u001B[38;5;124m\"\u001B[39m):\n",
       "\n",
       "File \u001B[0;32m/local_disk0/.ephemeral_nfs/envs/pythonEnv-3d11b9c1-6d3b-40c7-8d83-92afab03cf69/lib/python3.10/site-packages/webdriver_manager/core/driver.py:48\u001B[0m, in \u001B[0;36mDriver.get_driver_version_to_download\u001B[0;34m(self)\u001B[0m\n",
       "\u001B[1;32m     45\u001B[0m \u001B[38;5;28;01mif\u001B[39;00m \u001B[38;5;28mself\u001B[39m\u001B[38;5;241m.\u001B[39m_driver_version_to_download:\n",
       "\u001B[1;32m     46\u001B[0m     \u001B[38;5;28;01mreturn\u001B[39;00m \u001B[38;5;28mself\u001B[39m\u001B[38;5;241m.\u001B[39m_driver_version_to_download\n",
       "\u001B[0;32m---> 48\u001B[0m \u001B[38;5;28;01mreturn\u001B[39;00m \u001B[38;5;28;43mself\u001B[39;49m\u001B[38;5;241;43m.\u001B[39;49m\u001B[43mget_latest_release_version\u001B[49m\u001B[43m(\u001B[49m\u001B[43m)\u001B[49m\n",
       "\n",
       "File \u001B[0;32m/local_disk0/.ephemeral_nfs/envs/pythonEnv-3d11b9c1-6d3b-40c7-8d83-92afab03cf69/lib/python3.10/site-packages/webdriver_manager/drivers/chrome.py:64\u001B[0m, in \u001B[0;36mChromeDriver.get_latest_release_version\u001B[0;34m(self)\u001B[0m\n",
       "\u001B[1;32m     62\u001B[0m     \u001B[38;5;28;01mreturn\u001B[39;00m determined_browser_version\n",
       "\u001B[1;32m     63\u001B[0m \u001B[38;5;66;03m# Remove the build version (the last segment) from determined_browser_version for version < 113\u001B[39;00m\n",
       "\u001B[0;32m---> 64\u001B[0m determined_browser_version \u001B[38;5;241m=\u001B[39m \u001B[38;5;124m\"\u001B[39m\u001B[38;5;124m.\u001B[39m\u001B[38;5;124m\"\u001B[39m\u001B[38;5;241m.\u001B[39mjoin(\u001B[43mdetermined_browser_version\u001B[49m\u001B[38;5;241;43m.\u001B[39;49m\u001B[43msplit\u001B[49m(\u001B[38;5;124m\"\u001B[39m\u001B[38;5;124m.\u001B[39m\u001B[38;5;124m\"\u001B[39m)[:\u001B[38;5;241m3\u001B[39m])\n",
       "\u001B[1;32m     65\u001B[0m latest_release_url \u001B[38;5;241m=\u001B[39m (\n",
       "\u001B[1;32m     66\u001B[0m     \u001B[38;5;28mself\u001B[39m\u001B[38;5;241m.\u001B[39m_latest_release_url\n",
       "\u001B[1;32m     67\u001B[0m     \u001B[38;5;28;01mif\u001B[39;00m (determined_browser_version \u001B[38;5;129;01mis\u001B[39;00m \u001B[38;5;28;01mNone\u001B[39;00m)\n",
       "\u001B[1;32m     68\u001B[0m     \u001B[38;5;28;01melse\u001B[39;00m \u001B[38;5;124mf\u001B[39m\u001B[38;5;124m\"\u001B[39m\u001B[38;5;132;01m{\u001B[39;00m\u001B[38;5;28mself\u001B[39m\u001B[38;5;241m.\u001B[39m_latest_release_url\u001B[38;5;132;01m}\u001B[39;00m\u001B[38;5;124m_\u001B[39m\u001B[38;5;132;01m{\u001B[39;00mdetermined_browser_version\u001B[38;5;132;01m}\u001B[39;00m\u001B[38;5;124m\"\u001B[39m\n",
       "\u001B[1;32m     69\u001B[0m )\n",
       "\u001B[1;32m     70\u001B[0m resp \u001B[38;5;241m=\u001B[39m \u001B[38;5;28mself\u001B[39m\u001B[38;5;241m.\u001B[39m_http_client\u001B[38;5;241m.\u001B[39mget(url\u001B[38;5;241m=\u001B[39mlatest_release_url)\n",
       "\n",
       "\u001B[0;31mAttributeError\u001B[0m: 'NoneType' object has no attribute 'split'"
      ]
     },
     "metadata": {
      "application/vnd.databricks.v1+output": {
       "arguments": {},
       "data": "\u001B[0;31m---------------------------------------------------------------------------\u001B[0m\n\u001B[0;31mAttributeError\u001B[0m                            Traceback (most recent call last)\nFile \u001B[0;32m<command-563684843755688>, line 29\u001B[0m\n\u001B[1;32m     16\u001B[0m     \u001B[38;5;66;03m#chrome_options = Options()\u001B[39;00m\n\u001B[1;32m     17\u001B[0m     \u001B[38;5;66;03m#chrome_options.binary_location = \"/root/.wdm/drivers/chromedriver/linux64/114.0.5735.90/chromedriver\"\u001B[39;00m\n\u001B[1;32m     18\u001B[0m     \u001B[38;5;66;03m#chrome_options.binary_location = \"/local_disk0/.ephemeral_nfs/envs/pythonEnv-949035ac-f0f5-4a40-bdc5-13754e96e7f2/lib/python3.10/site-packages/chromedriver_binary\"\u001B[39;00m\n\u001B[0;32m   (...)\u001B[0m\n\u001B[1;32m     23\u001B[0m     \n\u001B[1;32m     24\u001B[0m     \u001B[38;5;66;03m#chrome_options.add_argument('--disable-dev-shm-usage')\u001B[39;00m\n\u001B[1;32m     28\u001B[0m     chrome_options\u001B[38;5;241m.\u001B[39madd_experimental_option(\u001B[38;5;124m\"\u001B[39m\u001B[38;5;124mprefs\u001B[39m\u001B[38;5;124m\"\u001B[39m, prefs)\n\u001B[0;32m---> 29\u001B[0m     driver \u001B[38;5;241m=\u001B[39m webdriver\u001B[38;5;241m.\u001B[39mChrome(ChromeDriverManager()\u001B[38;5;241m.\u001B[39minstall(),chrome_options\u001B[38;5;241m=\u001B[39mchrome_options)\n\u001B[1;32m     30\u001B[0m     \u001B[38;5;66;03m#driver = webdriver.Chrome(ChromeDriverManager(version=\"114.0.5735.90\").install(),chrome_options=chrome_options)\u001B[39;00m\n\u001B[1;32m     31\u001B[0m     \u001B[38;5;66;03m#driver = webdriver.Chrome(executable_path=\"/root/.wdm/drivers/chromedriver/linux64/114.0.5735.90/chromedriver\",chrome_options=chrome_options)\u001B[39;00m\n\u001B[1;32m     36\u001B[0m \u001B[38;5;28;01mexcept\u001B[39;00m \u001B[38;5;167;01mImportError\u001B[39;00m:\n\nFile \u001B[0;32m/local_disk0/.ephemeral_nfs/envs/pythonEnv-3d11b9c1-6d3b-40c7-8d83-92afab03cf69/lib/python3.10/site-packages/webdriver_manager/chrome.py:40\u001B[0m, in \u001B[0;36mChromeDriverManager.install\u001B[0;34m(self)\u001B[0m\n\u001B[1;32m     39\u001B[0m \u001B[38;5;28;01mdef\u001B[39;00m \u001B[38;5;21minstall\u001B[39m(\u001B[38;5;28mself\u001B[39m) \u001B[38;5;241m-\u001B[39m\u001B[38;5;241m>\u001B[39m \u001B[38;5;28mstr\u001B[39m:\n\u001B[0;32m---> 40\u001B[0m     driver_path \u001B[38;5;241m=\u001B[39m \u001B[38;5;28;43mself\u001B[39;49m\u001B[38;5;241;43m.\u001B[39;49m\u001B[43m_get_driver_binary_path\u001B[49m\u001B[43m(\u001B[49m\u001B[38;5;28;43mself\u001B[39;49m\u001B[38;5;241;43m.\u001B[39;49m\u001B[43mdriver\u001B[49m\u001B[43m)\u001B[49m\n\u001B[1;32m     41\u001B[0m     os\u001B[38;5;241m.\u001B[39mchmod(driver_path, \u001B[38;5;241m0o755\u001B[39m)\n\u001B[1;32m     42\u001B[0m     \u001B[38;5;28;01mreturn\u001B[39;00m driver_path\n\nFile \u001B[0;32m/local_disk0/.ephemeral_nfs/envs/pythonEnv-3d11b9c1-6d3b-40c7-8d83-92afab03cf69/lib/python3.10/site-packages/webdriver_manager/core/manager.py:40\u001B[0m, in \u001B[0;36mDriverManager._get_driver_binary_path\u001B[0;34m(self, driver)\u001B[0m\n\u001B[1;32m     37\u001B[0m     \u001B[38;5;28;01mreturn\u001B[39;00m binary_path\n\u001B[1;32m     39\u001B[0m os_type \u001B[38;5;241m=\u001B[39m \u001B[38;5;28mself\u001B[39m\u001B[38;5;241m.\u001B[39mget_os_type()\n\u001B[0;32m---> 40\u001B[0m file \u001B[38;5;241m=\u001B[39m \u001B[38;5;28mself\u001B[39m\u001B[38;5;241m.\u001B[39m_download_manager\u001B[38;5;241m.\u001B[39mdownload_file(\u001B[43mdriver\u001B[49m\u001B[38;5;241;43m.\u001B[39;49m\u001B[43mget_driver_download_url\u001B[49m\u001B[43m(\u001B[49m\u001B[43mos_type\u001B[49m\u001B[43m)\u001B[49m)\n\u001B[1;32m     41\u001B[0m binary_path \u001B[38;5;241m=\u001B[39m \u001B[38;5;28mself\u001B[39m\u001B[38;5;241m.\u001B[39m_cache_manager\u001B[38;5;241m.\u001B[39msave_file_to_cache(driver, file)\n\u001B[1;32m     42\u001B[0m \u001B[38;5;28;01mreturn\u001B[39;00m binary_path\n\nFile \u001B[0;32m/local_disk0/.ephemeral_nfs/envs/pythonEnv-3d11b9c1-6d3b-40c7-8d83-92afab03cf69/lib/python3.10/site-packages/webdriver_manager/drivers/chrome.py:32\u001B[0m, in \u001B[0;36mChromeDriver.get_driver_download_url\u001B[0;34m(self, os_type)\u001B[0m\n\u001B[1;32m     31\u001B[0m \u001B[38;5;28;01mdef\u001B[39;00m \u001B[38;5;21mget_driver_download_url\u001B[39m(\u001B[38;5;28mself\u001B[39m, os_type):\n\u001B[0;32m---> 32\u001B[0m     driver_version_to_download \u001B[38;5;241m=\u001B[39m \u001B[38;5;28;43mself\u001B[39;49m\u001B[38;5;241;43m.\u001B[39;49m\u001B[43mget_driver_version_to_download\u001B[49m\u001B[43m(\u001B[49m\u001B[43m)\u001B[49m\n\u001B[1;32m     33\u001B[0m     \u001B[38;5;66;03m# For Mac ARM CPUs after version 106.0.5249.61 the format of OS type changed\u001B[39;00m\n\u001B[1;32m     34\u001B[0m     \u001B[38;5;66;03m# to more unified \"mac_arm64\". For newer versions, it'll be \"mac_arm64\"\u001B[39;00m\n\u001B[1;32m     35\u001B[0m     \u001B[38;5;66;03m# by default, for lower versions we replace \"mac_arm64\" to old format - \"mac64_m1\".\u001B[39;00m\n\u001B[1;32m     36\u001B[0m     \u001B[38;5;28;01mif\u001B[39;00m version\u001B[38;5;241m.\u001B[39mparse(driver_version_to_download) \u001B[38;5;241m<\u001B[39m version\u001B[38;5;241m.\u001B[39mparse(\u001B[38;5;124m\"\u001B[39m\u001B[38;5;124m106.0.5249.61\u001B[39m\u001B[38;5;124m\"\u001B[39m):\n\nFile \u001B[0;32m/local_disk0/.ephemeral_nfs/envs/pythonEnv-3d11b9c1-6d3b-40c7-8d83-92afab03cf69/lib/python3.10/site-packages/webdriver_manager/core/driver.py:48\u001B[0m, in \u001B[0;36mDriver.get_driver_version_to_download\u001B[0;34m(self)\u001B[0m\n\u001B[1;32m     45\u001B[0m \u001B[38;5;28;01mif\u001B[39;00m \u001B[38;5;28mself\u001B[39m\u001B[38;5;241m.\u001B[39m_driver_version_to_download:\n\u001B[1;32m     46\u001B[0m     \u001B[38;5;28;01mreturn\u001B[39;00m \u001B[38;5;28mself\u001B[39m\u001B[38;5;241m.\u001B[39m_driver_version_to_download\n\u001B[0;32m---> 48\u001B[0m \u001B[38;5;28;01mreturn\u001B[39;00m \u001B[38;5;28;43mself\u001B[39;49m\u001B[38;5;241;43m.\u001B[39;49m\u001B[43mget_latest_release_version\u001B[49m\u001B[43m(\u001B[49m\u001B[43m)\u001B[49m\n\nFile \u001B[0;32m/local_disk0/.ephemeral_nfs/envs/pythonEnv-3d11b9c1-6d3b-40c7-8d83-92afab03cf69/lib/python3.10/site-packages/webdriver_manager/drivers/chrome.py:64\u001B[0m, in \u001B[0;36mChromeDriver.get_latest_release_version\u001B[0;34m(self)\u001B[0m\n\u001B[1;32m     62\u001B[0m     \u001B[38;5;28;01mreturn\u001B[39;00m determined_browser_version\n\u001B[1;32m     63\u001B[0m \u001B[38;5;66;03m# Remove the build version (the last segment) from determined_browser_version for version < 113\u001B[39;00m\n\u001B[0;32m---> 64\u001B[0m determined_browser_version \u001B[38;5;241m=\u001B[39m \u001B[38;5;124m\"\u001B[39m\u001B[38;5;124m.\u001B[39m\u001B[38;5;124m\"\u001B[39m\u001B[38;5;241m.\u001B[39mjoin(\u001B[43mdetermined_browser_version\u001B[49m\u001B[38;5;241;43m.\u001B[39;49m\u001B[43msplit\u001B[49m(\u001B[38;5;124m\"\u001B[39m\u001B[38;5;124m.\u001B[39m\u001B[38;5;124m\"\u001B[39m)[:\u001B[38;5;241m3\u001B[39m])\n\u001B[1;32m     65\u001B[0m latest_release_url \u001B[38;5;241m=\u001B[39m (\n\u001B[1;32m     66\u001B[0m     \u001B[38;5;28mself\u001B[39m\u001B[38;5;241m.\u001B[39m_latest_release_url\n\u001B[1;32m     67\u001B[0m     \u001B[38;5;28;01mif\u001B[39;00m (determined_browser_version \u001B[38;5;129;01mis\u001B[39;00m \u001B[38;5;28;01mNone\u001B[39;00m)\n\u001B[1;32m     68\u001B[0m     \u001B[38;5;28;01melse\u001B[39;00m \u001B[38;5;124mf\u001B[39m\u001B[38;5;124m\"\u001B[39m\u001B[38;5;132;01m{\u001B[39;00m\u001B[38;5;28mself\u001B[39m\u001B[38;5;241m.\u001B[39m_latest_release_url\u001B[38;5;132;01m}\u001B[39;00m\u001B[38;5;124m_\u001B[39m\u001B[38;5;132;01m{\u001B[39;00mdetermined_browser_version\u001B[38;5;132;01m}\u001B[39;00m\u001B[38;5;124m\"\u001B[39m\n\u001B[1;32m     69\u001B[0m )\n\u001B[1;32m     70\u001B[0m resp \u001B[38;5;241m=\u001B[39m \u001B[38;5;28mself\u001B[39m\u001B[38;5;241m.\u001B[39m_http_client\u001B[38;5;241m.\u001B[39mget(url\u001B[38;5;241m=\u001B[39mlatest_release_url)\n\n\u001B[0;31mAttributeError\u001B[0m: 'NoneType' object has no attribute 'split'",
       "errorSummary": "<span class='ansi-red-fg'>AttributeError</span>: 'NoneType' object has no attribute 'split'",
       "errorTraceType": "ansi",
       "metadata": {},
       "type": "ipynbError"
      }
     },
     "output_type": "display_data"
    }
   ],
   "source": [
    "### Debug\n",
    "# try:\n",
    "#       from selenium import webdriver\n",
    "# except ImportError:\n",
    "#     print(\"selenium not installed, installing selenium\")\n",
    "#     get_ipython().system('pip install selenium')\n",
    "# #load webdriver\n",
    "# from selenium import webdriver\n",
    "# from selenium.webdriver.chrome.options import Options\n",
    "# from webdriver_manager.chrome import ChromeDriverManager\n",
    "\n",
    "\n",
    "# try:\n",
    "#     data_path =  os.getcwd() + \"/data/\"\n",
    "#     prefs = {'download.default_directory' : data_path}\n",
    "#     chrome_options = webdriver.ChromeOptions() \n",
    "#     #chrome_options = Options()\n",
    "#     #chrome_options.binary_location = \"/root/.wdm/drivers/chromedriver/linux64/114.0.5735.90/chromedriver\"\n",
    "#     #chrome_options.binary_location = \"/local_disk0/.ephemeral_nfs/envs/pythonEnv-949035ac-f0f5-4a40-bdc5-13754e96e7f2/lib/python3.10/site-packages/chromedriver_binary\"\n",
    "#     #chrome_options.add_argument('--no-sandbox')\n",
    "#     #chrome_options.add_argument('--headless')\n",
    "#     #chrome_options.add_experimental_option(\"prefs\", prefs)\n",
    "#     #chrome_options.add_argument('--disable-gpu')\n",
    "    \n",
    "#     #chrome_options.add_argument('--disable-dev-shm-usage')\n",
    "\n",
    "    \n",
    "\n",
    "#     chrome_options.add_experimental_option(\"prefs\", prefs)\n",
    "#     driver = webdriver.Chrome(ChromeDriverManager().install(),chrome_options=chrome_options)\n",
    "#     #driver = webdriver.Chrome(ChromeDriverManager(version=\"114.0.5735.90\").install(),chrome_options=chrome_options)\n",
    "#     #driver = webdriver.Chrome(executable_path=\"/root/.wdm/drivers/chromedriver/linux64/114.0.5735.90/chromedriver\",chrome_options=chrome_options)\n",
    "\n",
    "\n",
    "\n",
    "\n",
    "# except ImportError:\n",
    "#     print(\"Driver could not be loaded\")\n",
    "\n",
    "# print(\"Driver now loaded to selenium\")\n",
    "\n",
    "\n",
    "\n",
    "# try:\n",
    "#     driver.get(\"https://aimis-simia.agr.gc.ca/rp/index-eng.cfm?action=pR&pdctc=&r=278\")\n",
    "# except:\n",
    "#     print('failed to load site and query')\n"
   ]
  },
  {
   "cell_type": "code",
   "execution_count": 0,
   "metadata": {
    "application/vnd.databricks.v1+cell": {
     "cellMetadata": {
      "byteLimit": 2048000,
      "rowLimit": 10000
     },
     "inputWidgets": {},
     "nuid": "a597a474-4b1e-43b4-aa2f-abd7d7ff310f",
     "showTitle": false,
     "title": ""
    }
   },
   "outputs": [],
   "source": [
    "#setup\n",
    "def setup():\n",
    "  try: \n",
    "    installCommands = [\n",
    "      'wget https://chromedriver.storage.googleapis.com/83.0.4103.39/chromedriver_linux64.zip -O /tmp/chromedriver_linux64.zip',\n",
    "      'unzip /tmp/chromedriver_linux64.zip -d /tmp/chromedriver/',\n",
    "      'sudo add-apt-repository ppa:canonical-chromium-builds/stage',\n",
    "      'wget https://dl.google.com/linux/direct/google-chrome-stable_current_amd64.deb', \n",
    "      'sudo apt install -y ./google-chrome-stable_current_amd64.deb'\n",
    "    ]\n",
    "\n",
    "    !git clone https://github.com/ai-cfia/PoultryRedMeatCond\n",
    "    %cd PoultryRedMeatCond\n",
    "\n",
    "\n",
    "    print('Downloading and installing ChromeDriver')\n",
    "    for command in installCommands:\n",
    "      print(f'> {command}')\n",
    "      os.system(command)\n",
    "    print('Installation complete')\n",
    "  except Exception as e:\n",
    "    print (\"Error in setup: \", e)\n",
    "    exit()"
   ]
  },
  {
   "cell_type": "code",
   "execution_count": 0,
   "metadata": {
    "application/vnd.databricks.v1+cell": {
     "cellMetadata": {
      "byteLimit": 2048000,
      "rowLimit": 10000
     },
     "inputWidgets": {},
     "nuid": "324eeb48-74e5-499d-abc9-466283552052",
     "showTitle": false,
     "title": ""
    }
   },
   "outputs": [],
   "source": [
    "\n",
    "\n",
    "#Api_key = dbutils.secrets.get(scope=\"databricksKeyVaultv1Scope\", key=\"testSecret\")\n",
    "SENDER = dbutils.secrets.get(scope=\"databricksKeyVaultv1Scope\", key=\"SENDER\")\n",
    "SENDERNAME = 'AI LAB CFIA'\n",
    "USERNAME_SMTP = dbutils.secrets.get(scope=\"databricksKeyVaultv1Scope\", key=\"USERNAMESMTP\")\n",
    "PASSWORD_SMTP = dbutils.secrets.get(scope=\"databricksKeyVaultv1Scope\", key=\"PASSWORDSMTP\")\n",
    "HOST = dbutils.secrets.get(scope=\"databricksKeyVaultv1Scope\", key=\"HOST\")\n",
    "PORT = dbutils.secrets.get(scope=\"databricksKeyVaultv1Scope\", key=\"PORT\")\n",
    "\n",
    "Title=\"CAHSS Test\"\n",
    "\n",
    "\n",
    "def download_csv():\n",
    "  \"Returns the Downloaded CSV\"\n",
    "  \n",
    "  try:\n",
    "      from selenium import webdriver\n",
    "  except ImportError:\n",
    "      print(\"selenium not installed, installing selenium\")\n",
    "      get_ipython().system('pip install selenium')\n",
    "  #load webdriver\n",
    "  from selenium import webdriver\n",
    "  from selenium.webdriver.chrome.options import Options\n",
    "  from webdriver_manager.chrome import ChromeDriverManager\n",
    "\n",
    "\n",
    "  try:\n",
    "      data_path =  os.getcwd() + \"/data/\"\n",
    "      prefs = {'download.default_directory' : data_path}\n",
    "      chrome_options = webdriver.ChromeOptions() \n",
    "      chrome_options.add_argument(\"--disable-dev-shm-usage\")\n",
    "      chrome_options = webdriver.ChromeOptions() \n",
    "    #   chrome_options.binary_location = \"/root/.wdm/drivers/chromedriver/linux64/114.0.5735.90/chromedriver\"\n",
    "      chrome_options.add_argument('--no-sandbox')\n",
    "      chrome_options.add_argument('--disable-gpu')\n",
    "      chrome_options.add_argument('--headless')\n",
    "      \n",
    "      chrome_options.add_experimental_option(\"prefs\", prefs)\n",
    "\n",
    "      driver = webdriver.Chrome(ChromeDriverManager().install(),chrome_options=chrome_options)\n",
    "\n",
    "\n",
    "\n",
    "\n",
    "  except ImportError:\n",
    "      print(\"Driver could not be loaded\")\n",
    "\n",
    "  print(\"Driver now loaded to selenium\")\n",
    "\n",
    "\n",
    "\n",
    "  try:\n",
    "      driver.get(\"https://aimis-simia.agr.gc.ca/rp/index-eng.cfm?action=pR&pdctc=&r=278\")\n",
    "  except:\n",
    "      print('failed to load site and query')\n",
    "\n",
    "  #remove old CSV file\n",
    "\n",
    "  #files = glob.glob('./data/*.csv')\n",
    "  # if len(files) > 0:\n",
    "  #     print(\"removing old csv file\")\n",
    "  #     for f in files:\n",
    "  #         os.remove(f)\n",
    "\n",
    "\n",
    "\n",
    "\n",
    "  #driver.find_element_by_xpath('//*[@id=\"promptForm\"]/div/input[11]').click()\n",
    "  driver.find_element(\"xpath\", '//*[@id=\"promptForm\"]/div/input[11]').click()\n",
    "  count = 0\n",
    "  #Load CSV file\n",
    "\n",
    "  while True:\n",
    "      try:\n",
    "          print(\"Attempting to download CSV file. Please do not download any other files\")\n",
    "          #driver.find_element_by_xpath('//*[@id=\"wb-cont\"]/p[2]/a[1]').click()\n",
    "          driver.find_element(\"xpath\", '//*[@id=\"wb-cont\"]/p[2]/a[1]').click()\n",
    "          break\n",
    "      except:\n",
    "          print(\"CSV not loaded. System sleep for 10 seconds\")\n",
    "          time.sleep(10)\n",
    "          if count == 100:\n",
    "              sys.exit(\"Failed to Download\")\n",
    "      count += 1\n",
    "\n",
    "  print(\"File succesfully downloaded. Saving the file to correct title\")\n",
    "  time.sleep(10)\n",
    "  list_of_files = glob.glob(data_path + \"*.csv\") # * means all if need specific format then *.csv\n",
    "  latest_file = max(list_of_files, key=os.path.getctime)\n",
    "\n",
    "  shutil.copy(latest_file , data_path + \"/ADH-717 - Poultry and Red Meat data.csv\")\n",
    "  return latest_file\n",
    "\n",
    "# github push function\n",
    "\n",
    "def github_push():\n",
    "    \n",
    "    # change the line below for account change\n",
    "    g = Github(\"\")\n",
    "    repo = g.get_user(\"ai-cfia\").get_repo(\"PoultryRedMeatCond\")\n",
    "    data_to_replace = repo.get_contents(\"data\")[0]\n",
    "    data_to_upload = download_csv()\n",
    "\n",
    "    df = pd.read_csv(data_to_upload, encoding=\"utf-16\", delimiter=\"\\t\").replace(np.nan, '', regex=True).astype(str)\n",
    "    print('#########data_to_replace.path==   ', data_to_replace.path)\n",
    "    #print('########df', df)\n",
    "    print('########data_to_replace.sha', data_to_replace.sha)\n",
    "    #repo.update_file(path=data_to_replace.path, message=\"update commit from databricks\", content=df.to_csv(sep = \"\\t\"), sha=data_to_replace.sha, branch=\"master\") # problem 2023/01/14 - github push error\n",
    "    print('ADH-717 - Poultry and Red Meat data.csv UPDATED')\n",
    "    \n",
    "    file_name_create = data_to_upload.split(\"/\")[-1]\n",
    "\n",
    "    repo.create_file(\"data/\" + file_name_create, \"create commit from databricks \", df.to_csv(sep = \"\\t\"), branch=\"master\")\n",
    "\n",
    "    print(file_name_create + ' CREATED')\n",
    "    print(\"Github Push success\")\n",
    "    return True\n",
    "#   except Exception as e:\n",
    "#     print (\"Error in Github Pushing: \", e)\n",
    "#     return False\n",
    "\n",
    "#Email function\n",
    "\n",
    "def send_email(receiver_email, Title=\"CAHSS Test\"):\n",
    "    message = MIMEMultipart(\"alternative\")\n",
    "    message[\"Subject\"] = Title\n",
    "    message['From'] = email.utils.formataddr((SENDERNAME, SENDER))\n",
    "    message[\"To\"] = \", \".join(receiver_email)\n",
    "    \n",
    "    \n",
    "    text_success= \"\"\"\\\n",
    "        <html>\n",
    "          <head>\n",
    "            The CAHSS Abattoir data has been updated to the newest version on :\n",
    "            https://github.com/ai-cfia/PoultryRedMeatCond/blob/master/data/ADH-717%20-%20Poultry%20and%20Red%20Meat%20data.csv\n",
    "          \n",
    "          </head>\n",
    "          <body>\"\"\" \n",
    "\n",
    "    text_failure= \"\"\"\\\n",
    "        <html>\n",
    "          <head>\n",
    "            There has been an error updating the CAHSS Abattoir data.\n",
    "          </head>\n",
    "          <body>\"\"\" \n",
    "    \n",
    "    \n",
    "    text_end = \"\"\"    \n",
    "               <br>\n",
    "               <br>\n",
    "               <p>\n",
    "               <a href=\"https://github.com/ai-cfia/\">Ai Lab</a> <br>\n",
    "               Innovation, Business, and Service Development Branch<br>\n",
    "               Canadian Food Inspection Agency / Government of Canada<br>\n",
    "               <a href = \"mailto:cfia.ai-ia.acia@canada.ca?subject = EarlyWarning = Message\">\n",
    "               cfia.ai-ia.acia@canada.ca\n",
    "               </a><br>\n",
    "        \n",
    "               laboratoire d’intelligence artificielle<br>\n",
    "               Direction générale du développement des affaires, des services et de l'innovation<br>\n",
    "               Agence canadienne d'inspection des aliments / Gouvernement du Canada<br>\n",
    "               <a href = \"mailto:cfia.ai-ia.acia@canada.ca?subject = EarlyWarning = Message\">\n",
    "               cfia.ai-ia.acia@canada.ca\n",
    "               </a><br>\n",
    "               <br>\n",
    "               \n",
    "               \n",
    "               <p><small>\n",
    "                   \n",
    "               You are receiving this email because you have expressed interest in including your email address in the \"early warning\" project mailing list.<br>\n",
    "               It is important to note that we are sending these emails from a Gmail address only as part of the pilot project. When the final version of this project will be deployed, you will receive these emails from the official Ai Lab address.\n",
    "               Want to change how you receive these emails? please send us an email at <a href = \"mailto:cfia.ai-ia.acia@canada.ca?subject = EarlyWarning = Message\">\n",
    "               cfia.ai-ia.acia@canada.ca</a></p>\n",
    "               <p>\n",
    "               Vous recevez ce courriel parce que vous avez exprimé votre intérêt pour inclure votre adresse courriel dans la liste d'envoi du projet \"early warning\".<br>\n",
    "               Il est important de noter que nous envoyons ces courriels à partir d'une adresse Gmail seulement dans le cadre du projet pilote. Lorsque la version finale de ce projet sera déployée, vous recevrez ces courriels à partir de l'adresse officielle du Ai Lab.\n",
    "               Si vous ne souhaitez plus recevoir ce message, veuillez nous envoyer un courriel à <a href = \"mailto:cfia.ai-ia.acia@canada.ca?subject = EarlyWarning = Message\">\n",
    "               cfia.ai-ia.acia@canada.ca</a> </p>\n",
    "               \n",
    "               </small></p>\n",
    "            </p>\n",
    "          </body>\n",
    "        </html>\n",
    "        \"\"\"\n",
    "    \n",
    "    success = github_push()\n",
    "    if success:\n",
    "      text = text_success + text_end\n",
    "    else:\n",
    "      text = text_failure + text_end      \n",
    "        \n",
    "\n",
    "    text=re.sub('target=\"_blank\".+>', '> URL </a> ', text)\n",
    "    part1 = MIMEText(text, \"html\")\n",
    "    \n",
    "    \n",
    "\n",
    "    message.attach(part1)    \n",
    "    \n",
    "    try:\n",
    "\n",
    "        server = smtplib.SMTP(HOST, PORT)\n",
    "\n",
    "        server.ehlo()\n",
    "\n",
    "        server.starttls()\n",
    "\n",
    "        #stmplib docs recommend calling ehlo() before & after starttls()\n",
    "\n",
    "        server.ehlo()\n",
    "\n",
    "        server.login(USERNAME_SMTP, PASSWORD_SMTP)\n",
    "\n",
    "        server.sendmail(SENDER, receiver_email, message.as_string())\n",
    "\n",
    "        server.close()\n",
    "\n",
    "    # Display an error message if something goes wrong.\n",
    "\n",
    "    except Exception as e:\n",
    "        print (\"Error: \", e)\n",
    "\n",
    "    else:\n",
    "        print (\"Email sent!\")\n",
    "        "
   ]
  },
  {
   "cell_type": "code",
   "execution_count": 0,
   "metadata": {
    "application/vnd.databricks.v1+cell": {
     "cellMetadata": {
      "byteLimit": 2048000,
      "rowLimit": 10000
     },
     "inputWidgets": {},
     "nuid": "5512db32-20d7-40fe-8158-f905d7bbe5aa",
     "showTitle": false,
     "title": ""
    }
   },
   "outputs": [],
   "source": [
    "email_addresses = ['tony.lee@inspection.gc.ca']#'baekyun.park@canada.ca', 'geetika.sharma@canada.ca','noureddine.meraihi@canada.ca', 'krista.nishi@canada.ca', 'tony.lee@insepction.gc.ca']"
   ]
  },
  {
   "cell_type": "code",
   "execution_count": 0,
   "metadata": {
    "application/vnd.databricks.v1+cell": {
     "cellMetadata": {
      "byteLimit": 2048000,
      "rowLimit": 10000
     },
     "inputWidgets": {},
     "nuid": "da6e10dc-77a8-4d0b-864a-715f6b273d6d",
     "showTitle": false,
     "title": ""
    }
   },
   "outputs": [
    {
     "output_type": "stream",
     "name": "stdout",
     "output_type": "stream",
     "text": [
      "Cloning into 'PoultryRedMeatCond'...\r\nremote: Enumerating objects: 334, done.\u001B[K\r\nremote: Counting objects:   3% (1/28)\u001B[K\rremote: Counting objects:   7% (2/28)\u001B[K\rremote: Counting objects:  10% (3/28)\u001B[K\rremote: Counting objects:  14% (4/28)\u001B[K\rremote: Counting objects:  17% (5/28)\u001B[K\rremote: Counting objects:  21% (6/28)\u001B[K\rremote: Counting objects:  25% (7/28)\u001B[K\rremote: Counting objects:  28% (8/28)\u001B[K\rremote: Counting objects:  32% (9/28)\u001B[K\rremote: Counting objects:  35% (10/28)\u001B[K\rremote: Counting objects:  39% (11/28)\u001B[K\rremote: Counting objects:  42% (12/28)\u001B[K\rremote: Counting objects:  46% (13/28)\u001B[K\rremote: Counting objects:  50% (14/28)\u001B[K\rremote: Counting objects:  53% (15/28)\u001B[K\rremote: Counting objects:  57% (16/28)\u001B[K\rremote: Counting objects:  60% (17/28)\u001B[K\rremote: Counting objects:  64% (18/28)\u001B[K\rremote: Counting objects:  67% (19/28)\u001B[K\rremote: Counting objects:  71% (20/28)\u001B[K\rremote: Counting objects:  75% (21/28)\u001B[K\rremote: Counting objects:  78% (22/28)\u001B[K\rremote: Counting objects:  82% (23/28)\u001B[K\rremote: Counting objects:  85% (24/28)\u001B[K\rremote: Counting objects:  89% (25/28)\u001B[K\rremote: Counting objects:  92% (26/28)\u001B[K\rremote: Counting objects:  96% (27/28)\u001B[K\rremote: Counting objects: 100% (28/28)\u001B[K\rremote: Counting objects: 100% (28/28), done.\u001B[K\r\nremote: Compressing objects:   3% (1/28)\u001B[K\rremote: Compressing objects:   7% (2/28)\u001B[K\rremote: Compressing objects:  10% (3/28)\u001B[K\rremote: Compressing objects:  14% (4/28)\u001B[K\rremote: Compressing objects:  17% (5/28)\u001B[K\rremote: Compressing objects:  21% (6/28)\u001B[K\rremote: Compressing objects:  25% (7/28)\u001B[K\rremote: Compressing objects:  28% (8/28)\u001B[K\rremote: Compressing objects:  32% (9/28)\u001B[K\rremote: Compressing objects:  35% (10/28)\u001B[K\rremote: Compressing objects:  39% (11/28)\u001B[K\rremote: Compressing objects:  42% (12/28)\u001B[K\rremote: Compressing objects:  46% (13/28)\u001B[K\rremote: Compressing objects:  50% (14/28)\u001B[K\rremote: Compressing objects:  53% (15/28)\u001B[K\rremote: Compressing objects:  57% (16/28)\u001B[K\rremote: Compressing objects:  60% (17/28)\u001B[K\rremote: Compressing objects:  64% (18/28)\u001B[K\rremote: Compressing objects:  67% (19/28)\u001B[K\rremote: Compressing objects:  71% (20/28)\u001B[K\rremote: Compressing objects:  75% (21/28)\u001B[K\rremote: Compressing objects:  78% (22/28)\u001B[K\rremote: Compressing objects:  82% (23/28)\u001B[K\rremote: Compressing objects:  85% (24/28)\u001B[K\rremote: Compressing objects:  89% (25/28)\u001B[K\rremote: Compressing objects:  92% (26/28)\u001B[K\rremote: Compressing objects:  96% (27/28)\u001B[K\rremote: Compressing objects: 100% (28/28)\u001B[K\rremote: Compressing objects: 100% (28/28), done.\u001B[K\r\nReceiving objects:   0% (1/334)\rReceiving objects:   1% (4/334)\rReceiving objects:   2% (7/334)\rReceiving objects:   3% (11/334)\rReceiving objects:   4% (14/334)\rReceiving objects:   5% (17/334)\rReceiving objects:   6% (21/334)\rReceiving objects:   7% (24/334)\rReceiving objects:   8% (27/334)\rReceiving objects:   9% (31/334)\rReceiving objects:  10% (34/334)\rReceiving objects:  11% (37/334)\rReceiving objects:  12% (41/334)\rReceiving objects:  13% (44/334)\rReceiving objects:  14% (47/334)\rReceiving objects:  15% (51/334)\rReceiving objects:  16% (54/334)\rReceiving objects:  17% (57/334)\rReceiving objects:  18% (61/334)\rReceiving objects:  19% (64/334)\rReceiving objects:  20% (67/334)\rReceiving objects:  21% (71/334)\rReceiving objects:  22% (74/334)\rReceiving objects:  23% (77/334)\rReceiving objects:  24% (81/334)\rReceiving objects:  25% (84/334)\rReceiving objects:  26% (87/334)\rReceiving objects:  27% (91/334)\rReceiving objects:  28% (94/334)\rReceiving objects:  29% (97/334)\rReceiving objects:  30% (101/334)\rReceiving objects:  31% (104/334)\rReceiving objects:  32% (107/334)\rReceiving objects:  33% (111/334)\rReceiving objects:  34% (114/334)\rReceiving objects:  35% (117/334)\rReceiving objects:  36% (121/334)\rReceiving objects:  37% (124/334)\rReceiving objects:  38% (127/334)\rReceiving objects:  39% (131/334)\rReceiving objects:  40% (134/334)\rReceiving objects:  41% (137/334)\rReceiving objects:  42% (141/334)\rReceiving objects:  43% (144/334)\rReceiving objects:  44% (147/334)\rReceiving objects:  45% (151/334)\rReceiving objects:  46% (154/334)\rReceiving objects:  47% (157/334)\rReceiving objects:  48% (161/334)\rReceiving objects:  49% (164/334)\rReceiving objects:  50% (167/334)\rReceiving objects:  51% (171/334)\rReceiving objects:  52% (174/334)\rReceiving objects:  53% (178/334), 11.98 MiB | 23.94 MiB/s\rReceiving objects:  54% (181/334), 11.98 MiB | 23.94 MiB/s\rReceiving objects:  55% (184/334), 11.98 MiB | 23.94 MiB/s\rReceiving objects:  56% (188/334), 11.98 MiB | 23.94 MiB/s\rReceiving objects:  57% (191/334), 11.98 MiB | 23.94 MiB/s\rReceiving objects:  58% (194/334), 11.98 MiB | 23.94 MiB/s\rReceiving objects:  59% (198/334), 11.98 MiB | 23.94 MiB/s\rReceiving objects:  60% (201/334), 11.98 MiB | 23.94 MiB/s\rReceiving objects:  61% (204/334), 11.98 MiB | 23.94 MiB/s\rReceiving objects:  62% (208/334), 11.98 MiB | 23.94 MiB/s\rReceiving objects:  63% (211/334), 11.98 MiB | 23.94 MiB/s\rReceiving objects:  64% (214/334), 11.98 MiB | 23.94 MiB/s\rReceiving objects:  65% (218/334), 11.98 MiB | 23.94 MiB/s\rReceiving objects:  66% (221/334), 11.98 MiB | 23.94 MiB/s\rReceiving objects:  67% (224/334), 11.98 MiB | 23.94 MiB/s\rReceiving objects:  68% (228/334), 11.98 MiB | 23.94 MiB/s\rReceiving objects:  69% (231/334), 11.98 MiB | 23.94 MiB/s\rReceiving objects:  70% (234/334), 11.98 MiB | 23.94 MiB/s\rReceiving objects:  71% (238/334), 11.98 MiB | 23.94 MiB/s\rReceiving objects:  72% (241/334), 11.98 MiB | 23.94 MiB/s\rReceiving objects:  73% (244/334), 11.98 MiB | 23.94 MiB/s\rReceiving objects:  74% (248/334), 11.98 MiB | 23.94 MiB/s\rReceiving objects:  75% (251/334), 11.98 MiB | 23.94 MiB/s\rReceiving objects:  76% (254/334), 11.98 MiB | 23.94 MiB/s\rReceiving objects:  77% (258/334), 11.98 MiB | 23.94 MiB/s\rReceiving objects:  78% (261/334), 11.98 MiB | 23.94 MiB/s\rReceiving objects:  79% (264/334), 11.98 MiB | 23.94 MiB/s\rReceiving objects:  80% (268/334), 11.98 MiB | 23.94 MiB/s\rReceiving objects:  81% (271/334), 11.98 MiB | 23.94 MiB/s\rReceiving objects:  82% (274/334), 11.98 MiB | 23.94 MiB/s\rReceiving objects:  83% (278/334), 11.98 MiB | 23.94 MiB/s\rReceiving objects:  84% (281/334), 11.98 MiB | 23.94 MiB/s\rReceiving objects:  85% (284/334), 11.98 MiB | 23.94 MiB/s\rReceiving objects:  86% (288/334), 11.98 MiB | 23.94 MiB/s\rReceiving objects:  87% (291/334), 11.98 MiB | 23.94 MiB/s\rReceiving objects:  88% (294/334), 11.98 MiB | 23.94 MiB/s\rReceiving objects:  89% (298/334), 11.98 MiB | 23.94 MiB/s\rReceiving objects:  90% (301/334), 11.98 MiB | 23.94 MiB/s\rReceiving objects:  91% (304/334), 11.98 MiB | 23.94 MiB/s\rReceiving objects:  92% (308/334), 11.98 MiB | 23.94 MiB/s\rReceiving objects:  93% (311/334), 11.98 MiB | 23.94 MiB/s\rReceiving objects:  94% (314/334), 11.98 MiB | 23.94 MiB/s\rReceiving objects:  95% (318/334), 11.98 MiB | 23.94 MiB/s\rremote: Total 334 (delta 17), reused 0 (delta 0), pack-reused 306\u001B[K\r\nReceiving objects:  96% (321/334), 11.98 MiB | 23.94 MiB/s\rReceiving objects:  97% (324/334), 11.98 MiB | 23.94 MiB/s\rReceiving objects:  98% (328/334), 11.98 MiB | 23.94 MiB/s\rReceiving objects:  99% (331/334), 11.98 MiB | 23.94 MiB/s\rReceiving objects: 100% (334/334), 11.98 MiB | 23.94 MiB/s\rReceiving objects: 100% (334/334), 15.53 MiB | 24.84 MiB/s, done.\r\nResolving deltas:   0% (0/207)\rResolving deltas:   1% (3/207)\rResolving deltas:   2% (5/207)\rResolving deltas:   3% (7/207)\rResolving deltas:   4% (9/207)\rResolving deltas:   5% (11/207)\rResolving deltas:   6% (13/207)\rResolving deltas:   7% (15/207)\rResolving deltas:   8% (18/207)\rResolving deltas:   9% (19/207)\rResolving deltas:  10% (21/207)\rResolving deltas:  11% (23/207)\rResolving deltas:  12% (25/207)\rResolving deltas:  13% (27/207)\rResolving deltas:  14% (29/207)\rResolving deltas:  15% (32/207)\rResolving deltas:  16% (34/207)\rResolving deltas:  17% (36/207)\rResolving deltas:  18% (38/207)\rResolving deltas:  19% (40/207)\rResolving deltas:  20% (42/207)\rResolving deltas:  21% (44/207)\rResolving deltas:  22% (46/207)\rResolving deltas:  23% (48/207)\rResolving deltas:  24% (50/207)\rResolving deltas:  25% (52/207)\rResolving deltas:  26% (54/207)\rResolving deltas:  27% (56/207)\rResolving deltas:  28% (58/207)\rResolving deltas:  29% (61/207)\rResolving deltas:  30% (63/207)\rResolving deltas:  31% (65/207)\rResolving deltas:  32% (67/207)\rResolving deltas:  33% (69/207)\rResolving deltas:  34% (71/207)\rResolving deltas:  35% (73/207)\rResolving deltas:  36% (75/207)\rResolving deltas:  37% (78/207)\rResolving deltas:  38% (79/207)\rResolving deltas:  39% (81/207)\rResolving deltas:  40% (83/207)\rResolving deltas:  41% (85/207)\rResolving deltas:  42% (87/207)\rResolving deltas:  43% (90/207)\rResolving deltas:  44% (92/207)\rResolving deltas:  45% (94/207)\rResolving deltas:  46% (96/207)\rResolving deltas:  47% (98/207)\rResolving deltas:  48% (100/207)\rResolving deltas:  49% (102/207)\rResolving deltas:  50% (104/207)\rResolving deltas:  51% (106/207)\rResolving deltas:  52% (108/207)\rResolving deltas:  53% (110/207)\rResolving deltas:  54% (112/207)\rResolving deltas:  55% (114/207)\rResolving deltas:  56% (116/207)\rResolving deltas:  57% (118/207)\rResolving deltas:  58% (121/207)\rResolving deltas:  59% (123/207)\rResolving deltas:  60% (125/207)\rResolving deltas:  61% (127/207)\rResolving deltas:  62% (130/207)\rResolving deltas:  63% (131/207)\rResolving deltas:  64% (133/207)\rResolving deltas:  65% (135/207)\rResolving deltas:  66% (137/207)\rResolving deltas:  67% (139/207)\rResolving deltas:  68% (141/207)\rResolving deltas:  69% (143/207)\rResolving deltas:  70% (146/207)\rResolving deltas:  71% (147/207)\rResolving deltas:  72% (150/207)\rResolving deltas:  73% (152/207)\rResolving deltas:  74% (154/207)\rResolving deltas:  75% (156/207)\rResolving deltas:  76% (158/207)\rResolving deltas:  77% (160/207)\rResolving deltas:  78% (162/207)\rResolving deltas:  79% (164/207)\rResolving deltas:  80% (166/207)\rResolving deltas:  81% (168/207)\rResolving deltas:  82% (170/207)\rResolving deltas:  83% (172/207)\rResolving deltas:  84% (174/207)\rResolving deltas:  85% (176/207)\rResolving deltas:  86% (179/207)\rResolving deltas:  87% (181/207)\rResolving deltas:  88% (183/207)\rResolving deltas:  89% (185/207)\rResolving deltas:  90% (187/207)\rResolving deltas:  91% (189/207)\rResolving deltas:  92% (191/207)\rResolving deltas:  93% (193/207)\rResolving deltas:  94% (195/207)\rResolving deltas:  95% (197/207)\rResolving deltas:  96% (199/207)\rResolving deltas:  97% (201/207)\rResolving deltas:  98% (203/207)\rResolving deltas:  99% (205/207)\rResolving deltas: 100% (207/207)\rResolving deltas: 100% (207/207), done.\r\n/databricks/driver/PoultryRedMeatCond/PoultryRedMeatCond/PoultryRedMeatCond\nDownloading and installing ChromeDriver\n> wget https://chromedriver.storage.googleapis.com/83.0.4103.39/chromedriver_linux64.zip -O /tmp/chromedriver_linux64.zip\n> unzip /tmp/chromedriver_linux64.zip -d /tmp/chromedriver/\n"
     ]
    },
    {
     "output_type": "display_data",
     "data": {
      "text/html": [
       "<style scoped>\n",
       "  .ansiout {\n",
       "    display: block;\n",
       "    unicode-bidi: embed;\n",
       "    white-space: pre-wrap;\n",
       "    word-wrap: break-word;\n",
       "    word-break: break-all;\n",
       "    font-family: \"Menlo\", \"Monaco\", \"Consolas\", \"Ubuntu Mono\", \"Source Code Pro\", monospace;\n",
       "    font-size: 13px;\n",
       "    color: #555;\n",
       "    margin-left: 4px;\n",
       "    line-height: 19px;\n",
       "  }\n",
       "</style>"
      ]
     },
     "metadata": {
      "application/vnd.databricks.v1+output": {
       "arguments": {},
       "data": "",
       "errorSummary": "Cancelled",
       "errorTraceType": "html",
       "metadata": {},
       "type": "ipynbError"
      }
     },
     "output_type": "display_data"
    }
   ],
   "source": [
    "setup()\n"
   ]
  },
  {
   "cell_type": "code",
   "execution_count": 0,
   "metadata": {
    "application/vnd.databricks.v1+cell": {
     "cellMetadata": {
      "byteLimit": 2048000,
      "rowLimit": 10000
     },
     "inputWidgets": {},
     "nuid": "70c7f275-cd4d-4a39-938e-cfbf9b88ee1c",
     "showTitle": false,
     "title": ""
    }
   },
   "outputs": [
    {
     "output_type": "stream",
     "name": "stdout",
     "output_type": "stream",
     "text": [
      "selenium not installed, installing selenium\nRequirement already satisfied: selenium in /local_disk0/.ephemeral_nfs/envs/pythonEnv-53584ca7-33a5-449b-92ca-d7277aaa9c46/lib/python3.10/site-packages (4.18.1)\r\nCollecting typing_extensions>=4.9.0\r\n  Using cached typing_extensions-4.10.0-py3-none-any.whl (33 kB)\r\nRequirement already satisfied: trio~=0.17 in /local_disk0/.ephemeral_nfs/envs/pythonEnv-53584ca7-33a5-449b-92ca-d7277aaa9c46/lib/python3.10/site-packages (from selenium) (0.24.0)\r\nRequirement already satisfied: certifi>=2021.10.8 in /local_disk0/.ephemeral_nfs/envs/pythonEnv-53584ca7-33a5-449b-92ca-d7277aaa9c46/lib/python3.10/site-packages (from selenium) (2024.2.2)\r\nRequirement already satisfied: urllib3[socks]<3,>=1.26 in /local_disk0/.ephemeral_nfs/envs/pythonEnv-53584ca7-33a5-449b-92ca-d7277aaa9c46/lib/python3.10/site-packages (from selenium) (2.2.1)\r\nRequirement already satisfied: trio-websocket~=0.9 in /local_disk0/.ephemeral_nfs/envs/pythonEnv-53584ca7-33a5-449b-92ca-d7277aaa9c46/lib/python3.10/site-packages (from selenium) (0.11.1)\r\nRequirement already satisfied: exceptiongroup in /local_disk0/.ephemeral_nfs/envs/pythonEnv-53584ca7-33a5-449b-92ca-d7277aaa9c46/lib/python3.10/site-packages (from trio~=0.17->selenium) (1.2.0)\r\nRequirement already satisfied: sniffio>=1.3.0 in /local_disk0/.ephemeral_nfs/envs/pythonEnv-53584ca7-33a5-449b-92ca-d7277aaa9c46/lib/python3.10/site-packages (from trio~=0.17->selenium) (1.3.1)\r\nRequirement already satisfied: idna in /local_disk0/.ephemeral_nfs/envs/pythonEnv-53584ca7-33a5-449b-92ca-d7277aaa9c46/lib/python3.10/site-packages (from trio~=0.17->selenium) (3.6)\r\nRequirement already satisfied: attrs>=20.1.0 in /local_disk0/.ephemeral_nfs/envs/pythonEnv-53584ca7-33a5-449b-92ca-d7277aaa9c46/lib/python3.10/site-packages (from trio~=0.17->selenium) (23.2.0)\r\nRequirement already satisfied: sortedcontainers in /local_disk0/.ephemeral_nfs/envs/pythonEnv-53584ca7-33a5-449b-92ca-d7277aaa9c46/lib/python3.10/site-packages (from trio~=0.17->selenium) (2.4.0)\r\nRequirement already satisfied: outcome in /local_disk0/.ephemeral_nfs/envs/pythonEnv-53584ca7-33a5-449b-92ca-d7277aaa9c46/lib/python3.10/site-packages (from trio~=0.17->selenium) (1.3.0.post0)\r\nRequirement already satisfied: wsproto>=0.14 in /local_disk0/.ephemeral_nfs/envs/pythonEnv-53584ca7-33a5-449b-92ca-d7277aaa9c46/lib/python3.10/site-packages (from trio-websocket~=0.9->selenium) (1.2.0)\r\nRequirement already satisfied: pysocks!=1.5.7,<2.0,>=1.5.6 in /local_disk0/.ephemeral_nfs/envs/pythonEnv-53584ca7-33a5-449b-92ca-d7277aaa9c46/lib/python3.10/site-packages (from urllib3[socks]<3,>=1.26->selenium) (1.7.1)\r\nRequirement already satisfied: h11<1,>=0.9.0 in /local_disk0/.ephemeral_nfs/envs/pythonEnv-53584ca7-33a5-449b-92ca-d7277aaa9c46/lib/python3.10/site-packages (from wsproto>=0.14->trio-websocket~=0.9->selenium) (0.14.0)\r\nInstalling collected packages: typing_extensions\r\n  Attempting uninstall: typing_extensions\r\n    Found existing installation: typing_extensions 4.7.1\r\n    Uninstalling typing_extensions-4.7.1:\r\n      Successfully uninstalled typing_extensions-4.7.1\r\nSuccessfully installed typing_extensions-4.10.0\r\n\r\n\u001B[1m[\u001B[0m\u001B[34;49mnotice\u001B[0m\u001B[1;39;49m]\u001B[0m\u001B[39;49m A new release of pip available: \u001B[0m\u001B[31;49m22.2.2\u001B[0m\u001B[39;49m -> \u001B[0m\u001B[32;49m24.0\u001B[0m\r\n\u001B[1m[\u001B[0m\u001B[34;49mnotice\u001B[0m\u001B[1;39;49m]\u001B[0m\u001B[39;49m To update, run: \u001B[0m\u001B[32;49mpip install --upgrade pip\u001B[0m\r\n"
     ]
    },
    {
     "output_type": "display_data",
     "data": {
      "text/plain": [
       "\u001B[0;31m---------------------------------------------------------------------------\u001B[0m\n",
       "\u001B[0;31mImportError\u001B[0m                               Traceback (most recent call last)\n",
       "File \u001B[0;32m<command-1119104092656783>, line 1\u001B[0m\n",
       "\u001B[0;32m----> 1\u001B[0m \u001B[43msend_email\u001B[49m\u001B[43m(\u001B[49m\u001B[43memail_addresses\u001B[49m\u001B[43m,\u001B[49m\u001B[43m \u001B[49m\u001B[43mTitle\u001B[49m\u001B[38;5;241;43m=\u001B[39;49m\u001B[38;5;124;43m\"\u001B[39;49m\u001B[38;5;124;43mCAHSS Test\u001B[39;49m\u001B[38;5;124;43m\"\u001B[39;49m\u001B[43m)\u001B[49m\n",
       "\n",
       "File \u001B[0;32m<command-1119104092656780>, line 183\u001B[0m, in \u001B[0;36msend_email\u001B[0;34m(receiver_email, Title)\u001B[0m\n",
       "\u001B[1;32m    137\u001B[0m text_failure\u001B[38;5;241m=\u001B[39m \u001B[38;5;124m\"\"\"\u001B[39m\u001B[38;5;130;01m\\\u001B[39;00m\n",
       "\u001B[1;32m    138\u001B[0m \u001B[38;5;124m    <html>\u001B[39m\n",
       "\u001B[1;32m    139\u001B[0m \u001B[38;5;124m      <head>\u001B[39m\n",
       "\u001B[1;32m    140\u001B[0m \u001B[38;5;124m        There has been an error updating the CAHSS Abattoir data.\u001B[39m\n",
       "\u001B[1;32m    141\u001B[0m \u001B[38;5;124m      </head>\u001B[39m\n",
       "\u001B[1;32m    142\u001B[0m \u001B[38;5;124m      <body>\u001B[39m\u001B[38;5;124m\"\"\"\u001B[39m \n",
       "\u001B[1;32m    145\u001B[0m text_end \u001B[38;5;241m=\u001B[39m \u001B[38;5;124m\"\"\"\u001B[39m\u001B[38;5;124m    \u001B[39m\n",
       "\u001B[1;32m    146\u001B[0m \u001B[38;5;124m           <br>\u001B[39m\n",
       "\u001B[1;32m    147\u001B[0m \u001B[38;5;124m           <br>\u001B[39m\n",
       "\u001B[0;32m   (...)\u001B[0m\n",
       "\u001B[1;32m    180\u001B[0m \u001B[38;5;124m    </html>\u001B[39m\n",
       "\u001B[1;32m    181\u001B[0m \u001B[38;5;124m    \u001B[39m\u001B[38;5;124m\"\"\"\u001B[39m\n",
       "\u001B[0;32m--> 183\u001B[0m success \u001B[38;5;241m=\u001B[39m \u001B[43mgithub_push\u001B[49m\u001B[43m(\u001B[49m\u001B[43m)\u001B[49m\n",
       "\u001B[1;32m    184\u001B[0m \u001B[38;5;28;01mif\u001B[39;00m success:\n",
       "\u001B[1;32m    185\u001B[0m   text \u001B[38;5;241m=\u001B[39m text_success \u001B[38;5;241m+\u001B[39m text_end\n",
       "\n",
       "File \u001B[0;32m<command-1119104092656780>, line 99\u001B[0m, in \u001B[0;36mgithub_push\u001B[0;34m()\u001B[0m\n",
       "\u001B[1;32m     97\u001B[0m repo \u001B[38;5;241m=\u001B[39m g\u001B[38;5;241m.\u001B[39mget_user(\u001B[38;5;124m\"\u001B[39m\u001B[38;5;124mai-cfia\u001B[39m\u001B[38;5;124m\"\u001B[39m)\u001B[38;5;241m.\u001B[39mget_repo(\u001B[38;5;124m\"\u001B[39m\u001B[38;5;124mPoultryRedMeatCond\u001B[39m\u001B[38;5;124m\"\u001B[39m)\n",
       "\u001B[1;32m     98\u001B[0m data_to_replace \u001B[38;5;241m=\u001B[39m repo\u001B[38;5;241m.\u001B[39mget_contents(\u001B[38;5;124m\"\u001B[39m\u001B[38;5;124mdata\u001B[39m\u001B[38;5;124m\"\u001B[39m)[\u001B[38;5;241m0\u001B[39m]\n",
       "\u001B[0;32m---> 99\u001B[0m data_to_upload \u001B[38;5;241m=\u001B[39m \u001B[43mdownload_csv\u001B[49m\u001B[43m(\u001B[49m\u001B[43m)\u001B[49m\n",
       "\u001B[1;32m    101\u001B[0m df \u001B[38;5;241m=\u001B[39m pd\u001B[38;5;241m.\u001B[39mread_csv(data_to_upload, encoding\u001B[38;5;241m=\u001B[39m\u001B[38;5;124m\"\u001B[39m\u001B[38;5;124mutf-16\u001B[39m\u001B[38;5;124m\"\u001B[39m, delimiter\u001B[38;5;241m=\u001B[39m\u001B[38;5;124m\"\u001B[39m\u001B[38;5;130;01m\\t\u001B[39;00m\u001B[38;5;124m\"\u001B[39m)\u001B[38;5;241m.\u001B[39mreplace(np\u001B[38;5;241m.\u001B[39mnan, \u001B[38;5;124m'\u001B[39m\u001B[38;5;124m'\u001B[39m, regex\u001B[38;5;241m=\u001B[39m\u001B[38;5;28;01mTrue\u001B[39;00m)\u001B[38;5;241m.\u001B[39mastype(\u001B[38;5;28mstr\u001B[39m)\n",
       "\u001B[1;32m    102\u001B[0m \u001B[38;5;28mprint\u001B[39m(\u001B[38;5;124m'\u001B[39m\u001B[38;5;124m#########data_to_replace.path==   \u001B[39m\u001B[38;5;124m'\u001B[39m, data_to_replace\u001B[38;5;241m.\u001B[39mpath)\n",
       "\n",
       "File \u001B[0;32m<command-1119104092656780>, line 21\u001B[0m, in \u001B[0;36mdownload_csv\u001B[0;34m()\u001B[0m\n",
       "\u001B[1;32m     19\u001B[0m     get_ipython()\u001B[38;5;241m.\u001B[39msystem(\u001B[38;5;124m'\u001B[39m\u001B[38;5;124mpip install selenium\u001B[39m\u001B[38;5;124m'\u001B[39m)\n",
       "\u001B[1;32m     20\u001B[0m \u001B[38;5;66;03m#load webdriver\u001B[39;00m\n",
       "\u001B[0;32m---> 21\u001B[0m \u001B[38;5;28;01mfrom\u001B[39;00m \u001B[38;5;21;01mselenium\u001B[39;00m \u001B[38;5;28;01mimport\u001B[39;00m webdriver\n",
       "\u001B[1;32m     22\u001B[0m \u001B[38;5;28;01mfrom\u001B[39;00m \u001B[38;5;21;01mselenium\u001B[39;00m\u001B[38;5;21;01m.\u001B[39;00m\u001B[38;5;21;01mwebdriver\u001B[39;00m\u001B[38;5;21;01m.\u001B[39;00m\u001B[38;5;21;01mchrome\u001B[39;00m\u001B[38;5;21;01m.\u001B[39;00m\u001B[38;5;21;01moptions\u001B[39;00m \u001B[38;5;28;01mimport\u001B[39;00m Options\n",
       "\u001B[1;32m     23\u001B[0m \u001B[38;5;28;01mfrom\u001B[39;00m \u001B[38;5;21;01mwebdriver_manager\u001B[39;00m\u001B[38;5;21;01m.\u001B[39;00m\u001B[38;5;21;01mchrome\u001B[39;00m \u001B[38;5;28;01mimport\u001B[39;00m ChromeDriverManager\n",
       "\n",
       "File \u001B[0;32m/local_disk0/.ephemeral_nfs/envs/pythonEnv-53584ca7-33a5-449b-92ca-d7277aaa9c46/lib/python3.10/site-packages/selenium/webdriver/__init__.py:29\u001B[0m\n",
       "\u001B[1;32m     27\u001B[0m \u001B[38;5;28;01mfrom\u001B[39;00m \u001B[38;5;21;01m.\u001B[39;00m\u001B[38;5;21;01medge\u001B[39;00m\u001B[38;5;21;01m.\u001B[39;00m\u001B[38;5;21;01mwebdriver\u001B[39;00m \u001B[38;5;28;01mimport\u001B[39;00m WebDriver \u001B[38;5;28;01mas\u001B[39;00m ChromiumEdge  \u001B[38;5;66;03m# noqa\u001B[39;00m\n",
       "\u001B[1;32m     28\u001B[0m \u001B[38;5;28;01mfrom\u001B[39;00m \u001B[38;5;21;01m.\u001B[39;00m\u001B[38;5;21;01medge\u001B[39;00m\u001B[38;5;21;01m.\u001B[39;00m\u001B[38;5;21;01mwebdriver\u001B[39;00m \u001B[38;5;28;01mimport\u001B[39;00m WebDriver \u001B[38;5;28;01mas\u001B[39;00m Edge  \u001B[38;5;66;03m# noqa\u001B[39;00m\n",
       "\u001B[0;32m---> 29\u001B[0m \u001B[38;5;28;01mfrom\u001B[39;00m \u001B[38;5;21;01m.\u001B[39;00m\u001B[38;5;21;01mfirefox\u001B[39;00m\u001B[38;5;21;01m.\u001B[39;00m\u001B[38;5;21;01mfirefox_profile\u001B[39;00m \u001B[38;5;28;01mimport\u001B[39;00m FirefoxProfile  \u001B[38;5;66;03m# noqa\u001B[39;00m\n",
       "\u001B[1;32m     30\u001B[0m \u001B[38;5;28;01mfrom\u001B[39;00m \u001B[38;5;21;01m.\u001B[39;00m\u001B[38;5;21;01mfirefox\u001B[39;00m\u001B[38;5;21;01m.\u001B[39;00m\u001B[38;5;21;01moptions\u001B[39;00m \u001B[38;5;28;01mimport\u001B[39;00m Options \u001B[38;5;28;01mas\u001B[39;00m FirefoxOptions  \u001B[38;5;66;03m# noqa\u001B[39;00m\n",
       "\u001B[1;32m     31\u001B[0m \u001B[38;5;28;01mfrom\u001B[39;00m \u001B[38;5;21;01m.\u001B[39;00m\u001B[38;5;21;01mfirefox\u001B[39;00m\u001B[38;5;21;01m.\u001B[39;00m\u001B[38;5;21;01mservice\u001B[39;00m \u001B[38;5;28;01mimport\u001B[39;00m Service \u001B[38;5;28;01mas\u001B[39;00m FirefoxService  \u001B[38;5;66;03m# noqa\u001B[39;00m\n",
       "\n",
       "File \u001B[0;32m/local_disk0/.ephemeral_nfs/envs/pythonEnv-53584ca7-33a5-449b-92ca-d7277aaa9c46/lib/python3.10/site-packages/selenium/webdriver/firefox/firefox_profile.py:31\u001B[0m\n",
       "\u001B[1;32m     28\u001B[0m \u001B[38;5;28;01mfrom\u001B[39;00m \u001B[38;5;21;01mio\u001B[39;00m \u001B[38;5;28;01mimport\u001B[39;00m BytesIO\n",
       "\u001B[1;32m     29\u001B[0m \u001B[38;5;28;01mfrom\u001B[39;00m \u001B[38;5;21;01mxml\u001B[39;00m\u001B[38;5;21;01m.\u001B[39;00m\u001B[38;5;21;01mdom\u001B[39;00m \u001B[38;5;28;01mimport\u001B[39;00m minidom\n",
       "\u001B[0;32m---> 31\u001B[0m \u001B[38;5;28;01mfrom\u001B[39;00m \u001B[38;5;21;01mtyping_extensions\u001B[39;00m \u001B[38;5;28;01mimport\u001B[39;00m deprecated\n",
       "\u001B[1;32m     33\u001B[0m \u001B[38;5;28;01mfrom\u001B[39;00m \u001B[38;5;21;01mselenium\u001B[39;00m\u001B[38;5;21;01m.\u001B[39;00m\u001B[38;5;21;01mcommon\u001B[39;00m\u001B[38;5;21;01m.\u001B[39;00m\u001B[38;5;21;01mexceptions\u001B[39;00m \u001B[38;5;28;01mimport\u001B[39;00m WebDriverException\n",
       "\u001B[1;32m     35\u001B[0m WEBDRIVER_PREFERENCES \u001B[38;5;241m=\u001B[39m \u001B[38;5;124m\"\u001B[39m\u001B[38;5;124mwebdriver_prefs.json\u001B[39m\u001B[38;5;124m\"\u001B[39m\n",
       "\n",
       "\u001B[0;31mImportError\u001B[0m: cannot import name 'deprecated' from 'typing_extensions' (/databricks/python/lib/python3.10/site-packages/typing_extensions.py)"
      ]
     },
     "metadata": {
      "application/vnd.databricks.v1+output": {
       "arguments": {},
       "data": "\u001B[0;31m---------------------------------------------------------------------------\u001B[0m\n\u001B[0;31mImportError\u001B[0m                               Traceback (most recent call last)\nFile \u001B[0;32m<command-1119104092656783>, line 1\u001B[0m\n\u001B[0;32m----> 1\u001B[0m \u001B[43msend_email\u001B[49m\u001B[43m(\u001B[49m\u001B[43memail_addresses\u001B[49m\u001B[43m,\u001B[49m\u001B[43m \u001B[49m\u001B[43mTitle\u001B[49m\u001B[38;5;241;43m=\u001B[39;49m\u001B[38;5;124;43m\"\u001B[39;49m\u001B[38;5;124;43mCAHSS Test\u001B[39;49m\u001B[38;5;124;43m\"\u001B[39;49m\u001B[43m)\u001B[49m\n\nFile \u001B[0;32m<command-1119104092656780>, line 183\u001B[0m, in \u001B[0;36msend_email\u001B[0;34m(receiver_email, Title)\u001B[0m\n\u001B[1;32m    137\u001B[0m text_failure\u001B[38;5;241m=\u001B[39m \u001B[38;5;124m\"\"\"\u001B[39m\u001B[38;5;130;01m\\\u001B[39;00m\n\u001B[1;32m    138\u001B[0m \u001B[38;5;124m    <html>\u001B[39m\n\u001B[1;32m    139\u001B[0m \u001B[38;5;124m      <head>\u001B[39m\n\u001B[1;32m    140\u001B[0m \u001B[38;5;124m        There has been an error updating the CAHSS Abattoir data.\u001B[39m\n\u001B[1;32m    141\u001B[0m \u001B[38;5;124m      </head>\u001B[39m\n\u001B[1;32m    142\u001B[0m \u001B[38;5;124m      <body>\u001B[39m\u001B[38;5;124m\"\"\"\u001B[39m \n\u001B[1;32m    145\u001B[0m text_end \u001B[38;5;241m=\u001B[39m \u001B[38;5;124m\"\"\"\u001B[39m\u001B[38;5;124m    \u001B[39m\n\u001B[1;32m    146\u001B[0m \u001B[38;5;124m           <br>\u001B[39m\n\u001B[1;32m    147\u001B[0m \u001B[38;5;124m           <br>\u001B[39m\n\u001B[0;32m   (...)\u001B[0m\n\u001B[1;32m    180\u001B[0m \u001B[38;5;124m    </html>\u001B[39m\n\u001B[1;32m    181\u001B[0m \u001B[38;5;124m    \u001B[39m\u001B[38;5;124m\"\"\"\u001B[39m\n\u001B[0;32m--> 183\u001B[0m success \u001B[38;5;241m=\u001B[39m \u001B[43mgithub_push\u001B[49m\u001B[43m(\u001B[49m\u001B[43m)\u001B[49m\n\u001B[1;32m    184\u001B[0m \u001B[38;5;28;01mif\u001B[39;00m success:\n\u001B[1;32m    185\u001B[0m   text \u001B[38;5;241m=\u001B[39m text_success \u001B[38;5;241m+\u001B[39m text_end\n\nFile \u001B[0;32m<command-1119104092656780>, line 99\u001B[0m, in \u001B[0;36mgithub_push\u001B[0;34m()\u001B[0m\n\u001B[1;32m     97\u001B[0m repo \u001B[38;5;241m=\u001B[39m g\u001B[38;5;241m.\u001B[39mget_user(\u001B[38;5;124m\"\u001B[39m\u001B[38;5;124mai-cfia\u001B[39m\u001B[38;5;124m\"\u001B[39m)\u001B[38;5;241m.\u001B[39mget_repo(\u001B[38;5;124m\"\u001B[39m\u001B[38;5;124mPoultryRedMeatCond\u001B[39m\u001B[38;5;124m\"\u001B[39m)\n\u001B[1;32m     98\u001B[0m data_to_replace \u001B[38;5;241m=\u001B[39m repo\u001B[38;5;241m.\u001B[39mget_contents(\u001B[38;5;124m\"\u001B[39m\u001B[38;5;124mdata\u001B[39m\u001B[38;5;124m\"\u001B[39m)[\u001B[38;5;241m0\u001B[39m]\n\u001B[0;32m---> 99\u001B[0m data_to_upload \u001B[38;5;241m=\u001B[39m \u001B[43mdownload_csv\u001B[49m\u001B[43m(\u001B[49m\u001B[43m)\u001B[49m\n\u001B[1;32m    101\u001B[0m df \u001B[38;5;241m=\u001B[39m pd\u001B[38;5;241m.\u001B[39mread_csv(data_to_upload, encoding\u001B[38;5;241m=\u001B[39m\u001B[38;5;124m\"\u001B[39m\u001B[38;5;124mutf-16\u001B[39m\u001B[38;5;124m\"\u001B[39m, delimiter\u001B[38;5;241m=\u001B[39m\u001B[38;5;124m\"\u001B[39m\u001B[38;5;130;01m\\t\u001B[39;00m\u001B[38;5;124m\"\u001B[39m)\u001B[38;5;241m.\u001B[39mreplace(np\u001B[38;5;241m.\u001B[39mnan, \u001B[38;5;124m'\u001B[39m\u001B[38;5;124m'\u001B[39m, regex\u001B[38;5;241m=\u001B[39m\u001B[38;5;28;01mTrue\u001B[39;00m)\u001B[38;5;241m.\u001B[39mastype(\u001B[38;5;28mstr\u001B[39m)\n\u001B[1;32m    102\u001B[0m \u001B[38;5;28mprint\u001B[39m(\u001B[38;5;124m'\u001B[39m\u001B[38;5;124m#########data_to_replace.path==   \u001B[39m\u001B[38;5;124m'\u001B[39m, data_to_replace\u001B[38;5;241m.\u001B[39mpath)\n\nFile \u001B[0;32m<command-1119104092656780>, line 21\u001B[0m, in \u001B[0;36mdownload_csv\u001B[0;34m()\u001B[0m\n\u001B[1;32m     19\u001B[0m     get_ipython()\u001B[38;5;241m.\u001B[39msystem(\u001B[38;5;124m'\u001B[39m\u001B[38;5;124mpip install selenium\u001B[39m\u001B[38;5;124m'\u001B[39m)\n\u001B[1;32m     20\u001B[0m \u001B[38;5;66;03m#load webdriver\u001B[39;00m\n\u001B[0;32m---> 21\u001B[0m \u001B[38;5;28;01mfrom\u001B[39;00m \u001B[38;5;21;01mselenium\u001B[39;00m \u001B[38;5;28;01mimport\u001B[39;00m webdriver\n\u001B[1;32m     22\u001B[0m \u001B[38;5;28;01mfrom\u001B[39;00m \u001B[38;5;21;01mselenium\u001B[39;00m\u001B[38;5;21;01m.\u001B[39;00m\u001B[38;5;21;01mwebdriver\u001B[39;00m\u001B[38;5;21;01m.\u001B[39;00m\u001B[38;5;21;01mchrome\u001B[39;00m\u001B[38;5;21;01m.\u001B[39;00m\u001B[38;5;21;01moptions\u001B[39;00m \u001B[38;5;28;01mimport\u001B[39;00m Options\n\u001B[1;32m     23\u001B[0m \u001B[38;5;28;01mfrom\u001B[39;00m \u001B[38;5;21;01mwebdriver_manager\u001B[39;00m\u001B[38;5;21;01m.\u001B[39;00m\u001B[38;5;21;01mchrome\u001B[39;00m \u001B[38;5;28;01mimport\u001B[39;00m ChromeDriverManager\n\nFile \u001B[0;32m/local_disk0/.ephemeral_nfs/envs/pythonEnv-53584ca7-33a5-449b-92ca-d7277aaa9c46/lib/python3.10/site-packages/selenium/webdriver/__init__.py:29\u001B[0m\n\u001B[1;32m     27\u001B[0m \u001B[38;5;28;01mfrom\u001B[39;00m \u001B[38;5;21;01m.\u001B[39;00m\u001B[38;5;21;01medge\u001B[39;00m\u001B[38;5;21;01m.\u001B[39;00m\u001B[38;5;21;01mwebdriver\u001B[39;00m \u001B[38;5;28;01mimport\u001B[39;00m WebDriver \u001B[38;5;28;01mas\u001B[39;00m ChromiumEdge  \u001B[38;5;66;03m# noqa\u001B[39;00m\n\u001B[1;32m     28\u001B[0m \u001B[38;5;28;01mfrom\u001B[39;00m \u001B[38;5;21;01m.\u001B[39;00m\u001B[38;5;21;01medge\u001B[39;00m\u001B[38;5;21;01m.\u001B[39;00m\u001B[38;5;21;01mwebdriver\u001B[39;00m \u001B[38;5;28;01mimport\u001B[39;00m WebDriver \u001B[38;5;28;01mas\u001B[39;00m Edge  \u001B[38;5;66;03m# noqa\u001B[39;00m\n\u001B[0;32m---> 29\u001B[0m \u001B[38;5;28;01mfrom\u001B[39;00m \u001B[38;5;21;01m.\u001B[39;00m\u001B[38;5;21;01mfirefox\u001B[39;00m\u001B[38;5;21;01m.\u001B[39;00m\u001B[38;5;21;01mfirefox_profile\u001B[39;00m \u001B[38;5;28;01mimport\u001B[39;00m FirefoxProfile  \u001B[38;5;66;03m# noqa\u001B[39;00m\n\u001B[1;32m     30\u001B[0m \u001B[38;5;28;01mfrom\u001B[39;00m \u001B[38;5;21;01m.\u001B[39;00m\u001B[38;5;21;01mfirefox\u001B[39;00m\u001B[38;5;21;01m.\u001B[39;00m\u001B[38;5;21;01moptions\u001B[39;00m \u001B[38;5;28;01mimport\u001B[39;00m Options \u001B[38;5;28;01mas\u001B[39;00m FirefoxOptions  \u001B[38;5;66;03m# noqa\u001B[39;00m\n\u001B[1;32m     31\u001B[0m \u001B[38;5;28;01mfrom\u001B[39;00m \u001B[38;5;21;01m.\u001B[39;00m\u001B[38;5;21;01mfirefox\u001B[39;00m\u001B[38;5;21;01m.\u001B[39;00m\u001B[38;5;21;01mservice\u001B[39;00m \u001B[38;5;28;01mimport\u001B[39;00m Service \u001B[38;5;28;01mas\u001B[39;00m FirefoxService  \u001B[38;5;66;03m# noqa\u001B[39;00m\n\nFile \u001B[0;32m/local_disk0/.ephemeral_nfs/envs/pythonEnv-53584ca7-33a5-449b-92ca-d7277aaa9c46/lib/python3.10/site-packages/selenium/webdriver/firefox/firefox_profile.py:31\u001B[0m\n\u001B[1;32m     28\u001B[0m \u001B[38;5;28;01mfrom\u001B[39;00m \u001B[38;5;21;01mio\u001B[39;00m \u001B[38;5;28;01mimport\u001B[39;00m BytesIO\n\u001B[1;32m     29\u001B[0m \u001B[38;5;28;01mfrom\u001B[39;00m \u001B[38;5;21;01mxml\u001B[39;00m\u001B[38;5;21;01m.\u001B[39;00m\u001B[38;5;21;01mdom\u001B[39;00m \u001B[38;5;28;01mimport\u001B[39;00m minidom\n\u001B[0;32m---> 31\u001B[0m \u001B[38;5;28;01mfrom\u001B[39;00m \u001B[38;5;21;01mtyping_extensions\u001B[39;00m \u001B[38;5;28;01mimport\u001B[39;00m deprecated\n\u001B[1;32m     33\u001B[0m \u001B[38;5;28;01mfrom\u001B[39;00m \u001B[38;5;21;01mselenium\u001B[39;00m\u001B[38;5;21;01m.\u001B[39;00m\u001B[38;5;21;01mcommon\u001B[39;00m\u001B[38;5;21;01m.\u001B[39;00m\u001B[38;5;21;01mexceptions\u001B[39;00m \u001B[38;5;28;01mimport\u001B[39;00m WebDriverException\n\u001B[1;32m     35\u001B[0m WEBDRIVER_PREFERENCES \u001B[38;5;241m=\u001B[39m \u001B[38;5;124m\"\u001B[39m\u001B[38;5;124mwebdriver_prefs.json\u001B[39m\u001B[38;5;124m\"\u001B[39m\n\n\u001B[0;31mImportError\u001B[0m: cannot import name 'deprecated' from 'typing_extensions' (/databricks/python/lib/python3.10/site-packages/typing_extensions.py)",
       "errorSummary": "<span class='ansi-red-fg'>ImportError</span>: cannot import name 'deprecated' from 'typing_extensions' (/databricks/python/lib/python3.10/site-packages/typing_extensions.py)",
       "errorTraceType": "ansi",
       "metadata": {},
       "type": "ipynbError"
      }
     },
     "output_type": "display_data"
    }
   ],
   "source": [
    "send_email(email_addresses, Title=\"CAHSS Test\")"
   ]
  },
  {
   "cell_type": "code",
   "execution_count": 0,
   "metadata": {
    "application/vnd.databricks.v1+cell": {
     "cellMetadata": {},
     "inputWidgets": {},
     "nuid": "e6049e02-ce59-4c98-be98-769004bf1b36",
     "showTitle": false,
     "title": ""
    }
   },
   "outputs": [],
   "source": []
  }
 ],
 "metadata": {
  "application/vnd.databricks.v1+notebook": {
   "dashboards": [],
   "language": "python",
   "notebookMetadata": {
    "mostRecentlyExecutedCommandWithImplicitDF": {
     "commandId": -1,
     "dataframes": [
      "_sqldf"
     ]
    },
    "pythonIndentUnit": 2
   },
   "notebookName": "Autoemail",
   "widgets": {}
  }
 },
 "nbformat": 4,
 "nbformat_minor": 0
}
