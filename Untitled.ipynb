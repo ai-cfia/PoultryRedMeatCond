{
 "cells": [
  {
   "cell_type": "code",
   "execution_count": 61,
   "metadata": {},
   "outputs": [
    {
     "name": "stderr",
     "output_type": "stream",
     "text": [
      "<ipython-input-61-95189df5e970>:30: DeprecationWarning: use options instead of chrome_options\n",
      "  driver = webdriver.Chrome(\"./chromedriver.exe\", chrome_options=chrome_options)\n"
     ]
    },
    {
     "name": "stdout",
     "output_type": "stream",
     "text": [
      "Driver now loaded to selenium\n",
      "Attempting to download CSV file. Please do not download any other files\n",
      "File succesfully downloaded. Saving the file to correct title\n"
     ]
    },
    {
     "data": {
      "text/plain": [
       "'C:\\\\Users\\\\parkba\\\\Documents\\\\PoultryRedMeatCond\\\\data\\\\\\\\ADH-717 - Poultry and Red Meat data.csv'"
      ]
     },
     "execution_count": 61,
     "metadata": {},
     "output_type": "execute_result"
    }
   ],
   "source": [
    "\n",
    "\n",
    "from selenium import webdriver\n",
    "from selenium.webdriver.chrome.options import Options\n",
    "import time\n",
    "import glob\n",
    "import datetime\n",
    "import os\n",
    "import requests\n",
    "import sys\n",
    "import shutil\n",
    "#import selenium driver\n",
    "\n",
    "try:\n",
    "    from selenium import webdriver\n",
    "except ImportError:\n",
    "    print(\"selenium not installed, installing selenium\")\n",
    "    get_ipython().system('pip install selenium')\n",
    "#load webdriver\n",
    "\n",
    "\n",
    "\n",
    "    \n",
    "\n",
    "\n",
    "try:\n",
    "    data_path =  os.getcwd() + \"\\\\data\\\\\"\n",
    "    prefs = {'download.default_directory' : data_path}\n",
    "\n",
    "    chrome_options.add_experimental_option(\"prefs\", prefs)\n",
    "\n",
    "    driver = webdriver.Chrome(\"./chromedriver.exe\", chrome_options=chrome_options)\n",
    "\n",
    "\n",
    "    \n",
    "    \n",
    "except ImportError:\n",
    "    print(\"Driver could not be loaded\")\n",
    "\n",
    "print(\"Driver now loaded to selenium\")\n",
    "\n",
    "\n",
    "\n",
    "try:\n",
    "    driver.get(\"https://aimis-simia.agr.gc.ca/rp/index-eng.cfm?action=pR&pdctc=&r=278\")\n",
    "except:\n",
    "    print('failed to load site and query')\n",
    "\n",
    "#remove old CSV file\n",
    "\n",
    "#files = glob.glob('./data/*.csv')\n",
    "# if len(files) > 0:\n",
    "#     print(\"removing old csv file\")\n",
    "#     for f in files:\n",
    "#         os.remove(f)\n",
    "\n",
    "    \n",
    "    \n",
    "options = webdriver.ChromeOptions() \n",
    "options.add_argument(\"download.default_directory=D:/Sele_Downloads\")\n",
    "    \n",
    "\n",
    "driver.find_element_by_xpath('//*[@id=\"promptForm\"]/div/input[11]').click()\n",
    "count = 0\n",
    "#Load CSV file\n",
    "\n",
    "while True:\n",
    "    try:\n",
    "        print(\"Attempting to download CSV file. Please do not download any other files\")\n",
    "        driver.find_element_by_xpath(\"/html/body/main/p[2]/a[1]\").click()\n",
    "        break\n",
    "    except:\n",
    "        print(\"CSV not loaded. System sleep for 10 seconds\")\n",
    "        time.sleep(10)\n",
    "        if count == 100:\n",
    "            sys.exit(\"Failed to Download\")\n",
    "    count += 1\n",
    "    \n",
    "print(\"File succesfully downloaded. Saving the file to correct title\")\n",
    "time.sleep(10)\n",
    "list_of_files = glob.glob(data_path + \"*.csv\") # * means all if need specific format then *.csv\n",
    "latest_file = max(list_of_files, key=os.path.getctime)\n",
    "\n",
    "shutil.copy(latest_file , data_path + \"\\\\ADH-717 - Poultry and Red Meat data.csv\")\n",
    "\n",
    "\n",
    "    \n"
   ]
  },
  {
   "cell_type": "code",
   "execution_count": null,
   "metadata": {},
   "outputs": [],
   "source": []
  }
 ],
 "metadata": {
  "kernelspec": {
   "display_name": "Python 3",
   "language": "python",
   "name": "python3"
  },
  "language_info": {
   "codemirror_mode": {
    "name": "ipython",
    "version": 3
   },
   "file_extension": ".py",
   "mimetype": "text/x-python",
   "name": "python",
   "nbconvert_exporter": "python",
   "pygments_lexer": "ipython3",
   "version": "3.8.5"
  }
 },
 "nbformat": 4,
 "nbformat_minor": 4
}
